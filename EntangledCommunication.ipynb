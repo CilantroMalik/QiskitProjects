{
 "cells": [
  {
   "cell_type": "code",
   "execution_count": null,
   "metadata": {
    "pycharm": {
     "name": "#%%\n"
    },
    "tags": []
   },
   "outputs": [],
   "source": [
    "# Imports\n",
    "from qiskit import QuantumCircuit\n",
    "from qiskit.quantum_info import Statevector\n",
    "from qiskit.providers.aer import AerSimulator\n",
    "from qiskit.visualization import plot_histogram\n",
    "\n",
    "sim = AerSimulator()  # Initialize a simulator instance"
   ]
  },
  {
   "cell_type": "code",
   "execution_count": null,
   "metadata": {
    "collapsed": false,
    "jupyter": {
     "outputs_hidden": false
    },
    "pycharm": {
     "name": "#%%\n"
    }
   },
   "outputs": [],
   "source": [
    "# -- Demonstrating Quantum Communication using Entanglement --\n",
    "# First, setup the channels and encoding scheme for a two-qubit message transfer\n",
    "\n",
    "message = \"01\"  # some message we want to send from Alice to Bob\n",
    "alice = QuantumCircuit(2, 2)  # \"Alice\", represented by a two-qubit quantum circuit\n",
    "bob = QuantumCircuit(2, 2)  # \"Bob\", represented by another two-qubit quantum circuit\n",
    "\n",
    "def encodeMessage(someQC, someMessage):  # encodes a message in a quantum circuit with X gates\n",
    "    for i in range(1, len(message)+1):  # indices go 1, 2, 3, 4, ...\n",
    "        if someMessage[-i] == \"1\":  # negative indices = counted from the end of the string: think bit place values\n",
    "            someQC.x(i-1)  # X gate the correct qubit if the message input is 1 (but these indices start at 0 so subtract 1)\n",
    "    return someQC\n",
    "\n",
    "def measureMessage(someQC, messageLen):  # measures a message of any length stored in qubits to the classical register\n",
    "    someQC.measure(list(range(messageLen)), list(range(messageLen)))  # measure bits [0, 1, ..., n]\n",
    "    return someQC"
   ]
  },
  {
   "cell_type": "code",
   "execution_count": null,
   "metadata": {
    "collapsed": false,
    "jupyter": {
     "outputs_hidden": false
    },
    "pycharm": {
     "name": "#%%\n"
    }
   },
   "outputs": [],
   "source": [
    "# Alice must first encode the message\n",
    "alice = encodeMessage(alice, message)\n",
    "# And on his end, Bob will measure the message\n",
    "bob = measureMessage(bob, len(message))\n",
    "\n",
    "alice.draw(output=\"mpl\");\n",
    "\n",
    "bob.draw(output=\"mpl\");\n",
    "\n",
    "# If we do nothing and just run this now...\n",
    "commResults = sim.run(alice.compose(bob)).result().get_counts()\n",
    "plot_histogram(commResults);\n",
    "# The message Bob measures is exactly the one Alice encoded — nothing happens, as expected"
   ]
  },
  {
   "cell_type": "code",
   "execution_count": null,
   "metadata": {
    "collapsed": false,
    "jupyter": {
     "outputs_hidden": false
    },
    "pycharm": {
     "name": "#%%\n"
    }
   },
   "outputs": [],
   "source": [
    "# With entanglement, it gets a bit more complex...\n",
    "message = \"00\"\n",
    "\n",
    "alice = QuantumCircuit(2, 2)  # create and encode, same as before\n",
    "alice = encodeMessage(alice, message)\n",
    "# Now Alice entangles her qubits using H and CNOT\n",
    "alice.h(1)  # put qubit 1 in superposition\n",
    "alice.cx(1, 0)  # CNOT with the superposed qubit as control\n",
    "\n",
    "bob = QuantumCircuit(2, 2)\n",
    "# And for Bob to receive the message, he must undo the entanglement and then perform measurement\n",
    "bob.cx(0, 1)  # Opposite: CNOT with control and target swapped\n",
    "bob.h(0)  # Again, the H is used on the other qubit\n",
    "bob = measureMessage(bob, len(message))\n",
    "\n",
    "alice.draw(output=\"mpl\");\n",
    "bob.draw(output=\"mpl\");\n",
    "\n",
    "# This is still the same, though: we are only adding an extra step somewhere.\n",
    "# To figure out how we can get some quantum advantage, let's look at the possible entangled states Alice could have\n",
    "# depending on what the message is."
   ]
  },
  {
   "cell_type": "code",
   "execution_count": null,
   "metadata": {
    "collapsed": false,
    "jupyter": {
     "outputs_hidden": false
    },
    "pycharm": {
     "name": "#%%\n"
    }
   },
   "outputs": [],
   "source": [
    "stateVectors = []\n",
    "# Experimenting with messages\n",
    "for message in [\"00\", \"01\", \"10\", \"11\"]:\n",
    "    alice = QuantumCircuit(2, 2)\n",
    "    alice = encodeMessage(alice, message)\n",
    "    alice.h(1)\n",
    "    alice.cx(1, 0)\n",
    "    print(f\"Statevector for message {message}:\")\n",
    "    stateVectors.append(Statevector(alice).draw(\"latex\"))"
   ]
  },
  {
   "cell_type": "code",
   "execution_count": null,
   "metadata": {
    "collapsed": false,
    "jupyter": {
     "outputs_hidden": false
    },
    "pycharm": {
     "name": "#%%\n"
    }
   },
   "outputs": [],
   "source": [
    "print(\"Statevector for message 00:\")\n",
    "stateVectors[0]\n",
    "# 00  01  10  11 "
   ]
  },
  {
   "cell_type": "code",
   "execution_count": null,
   "metadata": {
    "collapsed": false,
    "jupyter": {
     "outputs_hidden": false
    },
    "pycharm": {
     "name": "#%%\n"
    }
   },
   "outputs": [],
   "source": [
    "print(\"Statevector for message 01:\")\n",
    "stateVectors[1]\n",
    "# 00  01  10  11"
   ]
  },
  {
   "cell_type": "code",
   "execution_count": null,
   "metadata": {
    "collapsed": false,
    "jupyter": {
     "outputs_hidden": false
    },
    "pycharm": {
     "name": "#%%\n"
    }
   },
   "outputs": [],
   "source": [
    "print(\"Statevector for message 10:\")\n",
    "stateVectors[2]\n",
    "# 00  01  10  11"
   ]
  },
  {
   "cell_type": "code",
   "execution_count": null,
   "metadata": {
    "collapsed": false,
    "jupyter": {
     "outputs_hidden": false
    },
    "pycharm": {
     "name": "#%%\n"
    }
   },
   "outputs": [],
   "source": [
    "print(\"Statevector for message 11:\")\n",
    "stateVectors[3]\n",
    "# 00  01  10  11"
   ]
  },
  {
   "cell_type": "markdown",
   "metadata": {},
   "source": [
    "We see that all the states can be reached from one another through X and Z gates.\n",
    "So what if we entangle the qubits BEFORE we encode the message?\n",
    "Then we can apply X and Z to one of the qubits, and the other will reflect that as well...\n",
    "This means that Alice can send the second qubit to Bob before even encoding the message!\n",
    "If we take this a step further, it means that a hypothetical third person could just churn out\n",
    "entangled pairs, say in the Bell state, and keep feeding one to Alice and one to Bob, and Alice\n",
    "would just have to apply X and Z gates to hers, upon which Bob would instantly get the message upon measurement!\n",
    "We are transmitting **two** classical bits of information by manipulating only **one** qubit...\n",
    "and as is often the case, this scales up **exponentially** the more qubits we have!"
   ]
  },
  {
   "cell_type": "code",
   "execution_count": null,
   "metadata": {
    "collapsed": false,
    "jupyter": {
     "outputs_hidden": false
    },
    "pycharm": {
     "name": "#%%\n"
    }
   },
   "outputs": [],
   "source": [
    "# Implementing Communication\n",
    "\n",
    "message = \"11\"\n",
    "\n",
    "charlie = QuantumCircuit(2, 2)  # Third party whose only job is to generate entangled pairs\n",
    "charlie.h(1)\n",
    "charlie.cx(1, 0)  # standard procedure to create a Bell state\n",
    "\n",
    "# We imagine that Charlie now sends qubit 0 to Bob, and qubit 1 to Alice\n",
    "\n",
    "alice = QuantumCircuit(2, 2)  # Alice will only perform operations on qubit 1\n",
    "if message[-2] == \"1\":\n",
    "    # If the left bit of the message is 1, we use an X gate\n",
    "    # Note that due to entanglement, an X or Z gate on one qubit forces a change in the other's state\n",
    "    alice.x(1)\n",
    "if message[-1] == \"1\":\n",
    "    # If the right bit is 1, we use a Z gate (see state vectors from above)\n",
    "    alice.z(1)\n",
    "\n",
    "# Now imagine that Alice sends qubit 1 to Bob (only sending 1 qubit of information!)\n",
    "\n",
    "# Then Bob can measure using his standard procedure and get the same output message\n",
    "bob = QuantumCircuit(2, 2)\n",
    "bob.cx(0, 1)\n",
    "bob.h(0)  # Undo the entanglement, same way as before — but now the output will be different\n",
    "bob = measureMessage(bob, 2)\n",
    "\n",
    "plot_histogram(sim.run(charlie.compose(alice.compose(bob))).result().get_counts());\n",
    "\n",
    "# And we see that whatever the message is, Bob measures exactly that 100% of the time!\n"
   ]
  },
  {
   "cell_type": "code",
   "execution_count": null,
   "metadata": {},
   "outputs": [],
   "source": []
  }
 ],
 "metadata": {
  "kernelspec": {
   "display_name": "PyCharm (QiskitProjects)",
   "language": "python",
   "name": "pycharm-34a3b9e9"
  },
  "language_info": {
   "codemirror_mode": {
    "name": "ipython",
    "version": 3
   },
   "file_extension": ".py",
   "mimetype": "text/x-python",
   "name": "python",
   "nbconvert_exporter": "python",
   "pygments_lexer": "ipython3",
   "version": "3.8.3"
  }
 },
 "nbformat": 4,
 "nbformat_minor": 4
}