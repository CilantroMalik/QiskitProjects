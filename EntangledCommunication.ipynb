{
 "cells": [
  {
   "cell_type": "code",
   "execution_count": null,
   "metadata": {
    "collapsed": true,
    "pycharm": {
     "name": "#%%\n"
    }
   },
   "outputs": [],
   "source": [
    "# Imports\n",
    "from qiskit import QuantumCircuit\n",
    "from qiskit.quantum_info import Statevector\n",
    "from qiskit.providers.aer import AerSimulator\n",
    "from qiskit.visualization import plot_histogram\n",
    "\n",
    "sim = AerSimulator()  # Initialize a simulator instance"
   ]
  },
  {
   "cell_type": "code",
   "execution_count": null,
   "outputs": [],
   "source": [
    "# -- Demonstrating Quantum Communication using Entanglement --\n",
    "# First, setup the channels and encoding scheme for a two-qubit message transfer\n",
    "\n",
    "message = \"00\"  # some message we want to send from Alice to Bob\n",
    "alice = QuantumCircuit(2, 2)  # \"Alice\", represented by a two-qubit quantum circuit\n",
    "bob = QuantumCircuit(2, 2)  # \"Bob\", represented by another two-qubit quantum circuit\n",
    "\n",
    "def encodeMessage(someQC, someMessage):  # encodes a message in a quantum circuit with X gates\n",
    "    for i in range(1, len(message)+1):  # indices go 1, 2, 3, 4, ...\n",
    "        if someMessage[-i] == \"1\":  # negative indices = counted from the end of the string: think bit place values\n",
    "            someQC.x(i-1)  # X gate the correct qubit if the message input is 1 (but these indices start at 0 so subtract 1)\n",
    "    return someQC\n",
    "\n",
    "def measureMessage(someQC, messageLen):  # measures a message of any length stored in qubits to the classical register\n",
    "    someQC.measure(list(range(messageLen)), list(range(messageLen)))  # measure bits [0, 1, ..., n]\n",
    "    return someQC"
   ],
   "metadata": {
    "collapsed": false,
    "pycharm": {
     "name": "#%%\n"
    }
   }
  },
  {
   "cell_type": "code",
   "execution_count": null,
   "outputs": [],
   "source": [
    "# Alice must first encode the message\n",
    "alice = encodeMessage(alice, message)\n",
    "# And on his end, Bob will measure the message\n",
    "bob = measureMessage(bob, len(message))\n",
    "\n",
    "alice.draw(output=\"mpl\");\n",
    "\n",
    "bob.draw(output=\"mpl\");\n",
    "\n",
    "# If we do nothing and just run this now...\n",
    "commResults = sim.run(alice.compose(bob)).result().get_counts()\n",
    "plot_histogram(commResults);\n",
    "# The message Bob measures is exactly the one Alice encoded — nothing happens, as expected"
   ],
   "metadata": {
    "collapsed": false,
    "pycharm": {
     "name": "#%%\n"
    }
   }
  },
 "metadata": {
  "kernelspec": {
   "name": "pycharm-34a3b9e9",
   "language": "python",
   "display_name": "PyCharm (QiskitProjects)"
  },
  "language_info": {
   "codemirror_mode": {
    "name": "ipython",
    "version": 2
   },
   "file_extension": ".py",
   "mimetype": "text/x-python",
   "name": "python",
   "nbconvert_exporter": "python",
   "pygments_lexer": "ipython2",
   "version": "2.7.6"
  }
 },
 "nbformat": 4,
 "nbformat_minor": 0
}