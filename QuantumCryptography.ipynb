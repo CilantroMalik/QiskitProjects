{
 "cells": [
  {
   "cell_type": "markdown",
   "metadata": {
    "pycharm": {
     "name": "#%% md\n"
    }
   },
   "source": [
    "# Implementing Quantum Cryptography with the BB84 Protocol"
   ]
  },
  {
   "cell_type": "code",
   "execution_count": null,
   "metadata": {
    "collapsed": false,
    "jupyter": {
     "outputs_hidden": false
    },
    "pycharm": {
     "name": "#%%\n"
    }
   },
   "outputs": [],
   "source": [
    "# Setup\n",
    "from random import randint, sample\n",
    "\n",
    "n = 50  # Length of the message to be sent\n",
    "\n",
    "aliceBits = [randint(0, 1) for _ in range(n)]  # 0 or 1 for the random bits Alice generates\n",
    "aliceBases = [randint(0, 1) for _ in range(n)]  # 0 = Z basis, 1 = X basis"
   ]
  },
  {
   "cell_type": "code",
   "execution_count": null,
   "metadata": {},
   "outputs": [],
   "source": [
    "aliceBases"
   ]
  },
  {
   "cell_type": "code",
   "execution_count": null,
   "metadata": {
    "collapsed": false,
    "jupyter": {
     "outputs_hidden": false
    },
    "pycharm": {
     "name": "#%%\n"
    }
   },
   "outputs": [],
   "source": [
    "# Encodes a message with the correct bits and bases\n",
    "from qiskit import QuantumCircuit\n",
    "\n",
    "def encodeMessage(bits, bases):\n",
    "    message = []\n",
    "    for bit, base in zip(bits, bases):\n",
    "        qc = QuantumCircuit(1, 1)\n",
    "        if base == 0:  # Z basis\n",
    "            if bit == 1:\n",
    "                qc.x(0)  # Have to flip the qubit if the input bit is 1\n",
    "        else:  # X basis\n",
    "            if bit == 1:\n",
    "                qc.x(0)  # Same as before for now\n",
    "            qc.h(0)  # But now put it in superposition (recall: \"rotation\" from Z to X basis)\n",
    "        qc.barrier()  # for readability\n",
    "        message.append(qc)\n",
    "    return message"
   ]
  },
 ],
 "metadata": {
  "kernelspec": {
   "display_name": "PyCharm (QiskitProjects)",
   "language": "python",
   "name": "pycharm-34a3b9e9"
  },
  "language_info": {
   "codemirror_mode": {
    "name": "ipython",
    "version": 3
   },
   "file_extension": ".py",
   "mimetype": "text/x-python",
   "name": "python",
   "nbconvert_exporter": "python",
   "pygments_lexer": "ipython3",
   "version": "3.8.3"
  }
 },
 "nbformat": 4,
 "nbformat_minor": 4
}