{
 "cells": [
  {
   "cell_type": "markdown",
   "metadata": {
    "pycharm": {
     "name": "#%% md\n"
    }
   },
   "source": [
    "# Implementing Quantum Teleportation"
   ]
  },
  {
   "cell_type": "code",
   "execution_count": null,
   "metadata": {
    "collapsed": false,
    "jupyter": {
     "outputs_hidden": false
    },
    "pycharm": {
     "name": "#%%\n"
    }
   },
   "outputs": [],
   "source": [
    "# Imports\n",
    "from qiskit import QuantumCircuit, QuantumRegister, ClassicalRegister\n",
    "from qiskit.extensions import Initialize\n",
    "from qiskit.quantum_info import Statevector, random_statevector\n",
    "from qiskit.providers.aer import AerSimulator\n",
    "from qiskit.visualization import plot_histogram, plot_bloch_multivector\n",
    "\n",
    "sim = AerSimulator()  # Initialize a simulator instance\n",
    "\n",
    "# Set up circuits for Alice and Bob\n",
    "# We use three qubits, but imagine that each person can access only the qubits they have on hand at any time\n",
    "# And we have three measurement slots for Alice's two measurements according to the protocol as well as Bob's final measurement of the unknown qubit\n",
    "qrAlice = QuantumRegister(2, name=\"alice\")\n",
    "qrBob = QuantumRegister(1, name=\"bob\")\n",
    "cl = ClassicalRegister(1, name=\"meas1\")\n",
    "cl2 = ClassicalRegister(1, name=\"meas2\")\n",
    "cl3 = ClassicalRegister(1, name=\"out\")\n",
    "alice = QuantumCircuit(qrAlice, qrBob, cl, cl2, cl3)\n",
    "bob = QuantumCircuit(qrAlice, qrBob, cl, cl2, cl3)"
   ]
  },
 ],
 "metadata": {
  "kernelspec": {
   "display_name": "PyCharm (QiskitProjects)",
   "language": "python",
   "name": "pycharm-34a3b9e9"
  },
  "language_info": {
   "codemirror_mode": {
    "name": "ipython",
    "version": 3
   },
   "file_extension": ".py",
   "mimetype": "text/x-python",
   "name": "python",
   "nbconvert_exporter": "python",
   "pygments_lexer": "ipython3",
   "version": "3.8.3"
  }
 },
 "nbformat": 4,
 "nbformat_minor": 4
}