{
 "cells": [
  {
   "cell_type": "markdown",
   "id": "b6ae5efe-7ed1-4fa2-9da1-2ee5f6694802",
   "metadata": {},
   "source": [
    "# Visualizing Qubits: The Bloch Sphere\n",
    "We can visualize quantum states using a popular model known as the Bloch sphere. The traditional classical states of 0 and 1 are represented as vertical arrows, and all the many possible \"in-between states\" are represented somewhere else on the sphere. We'll come back to what these other states mean later."
   ]
  },
