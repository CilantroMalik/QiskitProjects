{
 "cells": [
  {
   "cell_type": "markdown",
   "id": "b6ae5efe-7ed1-4fa2-9da1-2ee5f6694802",
   "metadata": {},
   "source": [
    "# Visualizing Qubits: The Bloch Sphere\n",
    "We can visualize quantum states using a popular model known as the Bloch sphere. The traditional classical states of 0 and 1 are represented as vertical arrows, and all the many possible \"in-between states\" are represented somewhere else on the sphere. We'll come back to what these other states mean later."
   ]
  },
  {
   "cell_type": "code",
   "execution_count": null,
   "id": "6f574aa4-89c5-4876-98d7-96b028f6bd2a",
   "metadata": {},
   "outputs": [],
   "source": [
    "from qiskit.visualization import plot_bloch_multivector\n",
    "from qiskit.quantum_info import Statevector, random_statevector\n",
    "zero = Statevector([1, 0])\n",
    "one = Statevector([0, 1])\n",
    "halfway = Statevector([0.7071, 0.7071])\n",
    "random1 = random_statevector(2)\n",
    "random2 = random_statevector(2)"
   ]
  },
  {
   "cell_type": "code",
   "execution_count": null,
   "id": "9fc79b28-8759-4c12-be52-2f60ff56761b",
   "metadata": {},
   "outputs": [],
   "source": [
    "plot_bloch_multivector(zero);"
   ]
  },
  {
   "cell_type": "code",
   "execution_count": null,
   "id": "1d9de795-7c73-4c5a-a1b6-6b118f502134",
   "metadata": {},
   "outputs": [],
   "source": [
    "plot_bloch_multivector(one);"
   ]
  },
  {
   "cell_type": "code",
   "execution_count": null,
   "id": "6d1f74c9-835e-4a6e-802f-234681d6bd1b",
   "metadata": {},
   "outputs": [],
   "source": [
    "plot_bloch_multivector(halfway);"
   ]
  },
  {
   "cell_type": "code",
   "execution_count": null,
   "id": "ad34eb4d-7d40-4443-b014-a28b1c658a3d",
   "metadata": {},
   "outputs": [],
   "source": [
    "plot_bloch_multivector(random1);"
   ]
  },
  {
   "cell_type": "code",
   "execution_count": null,
   "id": "8764bc43-fe74-4123-b55b-7793f6fcd985",
   "metadata": {},
   "outputs": [],
   "source": [
    "plot_bloch_multivector(random2);"
   ]
  },
  {
   "cell_type": "markdown",
   "id": "50febcad-274e-4856-a1e7-348005bfa653",
   "metadata": {},
   "source": [
    "# Introduction to Quantum Circuits\n",
    "Quantum gates involve some number of quantum bits (qubits) and some number of classical bits to use as output.\n",
    "Usually we perform some operations on the qubits and then \"measure\" them, outputting to the classical registers.\n",
    "The most fundamental gate is the X gate, which acts like a NOT operation, flipping 0 to 1 and 1 to 0."
   ]
  },
  {
   "cell_type": "code",
   "execution_count": null,
   "id": "83d1d1d2-9c57-45f1-931c-ac19d9b34955",
   "metadata": {},
   "outputs": [],
   "source": [
    "from qiskit import QuantumCircuit\n",
    "from qiskit.providers.aer import AerSimulator\n",
    "from qiskit.visualization import plot_histogram\n",
    "\n",
    "qc = QuantumCircuit(2)  # 2 qubits\n",
    "\n",
    "qc.draw(output=\"mpl\");  # currently empty"
   ]
  },
