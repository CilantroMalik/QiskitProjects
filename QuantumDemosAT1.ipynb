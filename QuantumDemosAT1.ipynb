{
 "cells": [
  {
   "cell_type": "markdown",
   "id": "b6ae5efe-7ed1-4fa2-9da1-2ee5f6694802",
   "metadata": {},
   "source": [
    "# Visualizing Qubits: The Bloch Sphere\n",
    "We can visualize quantum states using a popular model known as the Bloch sphere. The traditional classical states of 0 and 1 are represented as vertical arrows, and all the many possible \"in-between states\" are represented somewhere else on the sphere. We'll come back to what these other states mean later."
   ]
  },
  {
   "cell_type": "code",
   "execution_count": null,
   "id": "6f574aa4-89c5-4876-98d7-96b028f6bd2a",
   "metadata": {},
   "outputs": [],
   "source": [
    "from qiskit.visualization import plot_bloch_multivector\n",
    "from qiskit.quantum_info import Statevector, random_statevector\n",
    "zero = Statevector([1, 0])\n",
    "one = Statevector([0, 1])\n",
    "halfway = Statevector([0.7071, 0.7071])\n",
    "random1 = random_statevector(2)\n",
    "random2 = random_statevector(2)"
   ]
  },
  {
   "cell_type": "code",
   "execution_count": null,
   "id": "9fc79b28-8759-4c12-be52-2f60ff56761b",
   "metadata": {},
   "outputs": [],
   "source": [
    "plot_bloch_multivector(zero);"
   ]
  },
  {
   "cell_type": "code",
   "execution_count": null,
   "id": "1d9de795-7c73-4c5a-a1b6-6b118f502134",
   "metadata": {},
   "outputs": [],
   "source": [
    "plot_bloch_multivector(one);"
   ]
  },
