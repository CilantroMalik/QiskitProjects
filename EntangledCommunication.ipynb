{
 "cells": [
  {
   "cell_type": "code",
   "execution_count": null,
   "metadata": {
    "collapsed": true,
    "pycharm": {
     "name": "#%%\n"
    }
   },
   "outputs": [],
   "source": [
    "# Imports\n",
    "from qiskit import QuantumCircuit\n",
    "from qiskit.quantum_info import Statevector\n",
    "from qiskit.providers.aer import AerSimulator\n",
    "from qiskit.visualization import plot_histogram\n",
    "\n",
    "sim = AerSimulator()  # Initialize a simulator instance"
   ]
  },
  {
   "cell_type": "code",
   "execution_count": null,
   "outputs": [],
   "source": [
    "# -- Demonstrating Quantum Communication using Entanglement --\n",
    "# First, setup the channels and encoding scheme for a two-qubit message transfer\n",
    "\n",
    "message = \"00\"  # some message we want to send from Alice to Bob\n",
    "alice = QuantumCircuit(2, 2)  # \"Alice\", represented by a two-qubit quantum circuit\n",
    "bob = QuantumCircuit(2, 2)  # \"Bob\", represented by another two-qubit quantum circuit\n",
    "\n",
    "def encodeMessage(someQC, someMessage):  # encodes a message in a quantum circuit with X gates\n",
    "    for i in range(1, len(message)+1):  # indices go 1, 2, 3, 4, ...\n",
    "        if someMessage[-i] == \"1\":  # negative indices = counted from the end of the string: think bit place values\n",
    "            someQC.x(i-1)  # X gate the correct qubit if the message input is 1 (but these indices start at 0 so subtract 1)\n",
    "    return someQC\n",
    "\n",
    "def measureMessage(someQC, messageLen):  # measures a message of any length stored in qubits to the classical register\n",
    "    someQC.measure(list(range(messageLen)), list(range(messageLen)))  # measure bits [0, 1, ..., n]\n",
    "    return someQC"
   ],
   "metadata": {
    "collapsed": false,
    "pycharm": {
     "name": "#%%\n"
    }
   }
  },
  {
   "cell_type": "code",
   "execution_count": null,
   "outputs": [],
   "source": [
    "# Alice must first encode the message\n",
    "alice = encodeMessage(alice, message)\n",
    "# And on his end, Bob will measure the message\n",
    "bob = measureMessage(bob, len(message))\n",
    "\n",
    "alice.draw(output=\"mpl\");\n",
    "\n",
    "bob.draw(output=\"mpl\");\n",
    "\n",
    "# If we do nothing and just run this now...\n",
    "commResults = sim.run(alice.compose(bob)).result().get_counts()\n",
    "plot_histogram(commResults);\n",
    "# The message Bob measures is exactly the one Alice encoded — nothing happens, as expected"
   ],
   "metadata": {
    "collapsed": false,
    "pycharm": {
     "name": "#%%\n"
    }
   }
  },
  {
   "cell_type": "code",
   "execution_count": null,
   "outputs": [],
   "source": [
    "# With entanglement, it gets a bit more complex...\n",
    "message = \"00\"\n",
    "\n",
    "alice = QuantumCircuit(2, 2)  # create and encode, same as before\n",
    "alice = encodeMessage(alice, message)\n",
    "# Now Alice entangles her qubits using H and CNOT\n",
    "alice.h(1)  # put qubit 1 in superposition\n",
    "alice.cx(1, 0)  # CNOT with the superposed qubit as control\n",
    "\n",
    "bob = QuantumCircuit(2, 2)\n",
    "# And for Bob to receive the message, he must undo the entanglement and then perform measurement\n",
    "bob.cx(0, 1)  # Opposite: CNOT with control and target swapped\n",
    "bob.h(0)  # Again, the H is used on the other qubit\n",
    "bob = measureMessage(bob, len(message))\n",
    "\n",
    "alice.draw(output=\"mpl\");\n",
    "bob.draw(output=\"mpl\");\n",
    "\n",
    "# This is still the same, though: we are only adding an extra step somewhere.\n",
    "# To figure out how we can get some quantum advantage, let's look at the possible entangled states Alice could have\n",
    "# depending on what the message is."
   ],
   "metadata": {
    "collapsed": false,
    "pycharm": {
     "name": "#%%\n"
    }
   }
  },
  {
   "cell_type": "code",
   "execution_count": null,
   "outputs": [],
   "source": [
    "stateVectors = []\n",
    "# Experimenting with messages\n",
    "for message in [\"00\", \"01\", \"10\", \"11\"]:\n",
    "    alice = QuantumCircuit(2, 2)\n",
    "    alice = encodeMessage(alice, message)\n",
    "    alice.h(1)\n",
    "    alice.cx(1, 0)\n",
    "    print(f\"Statevector for message {message}:\")\n",
    "    stateVectors.append(Statevector(alice).draw(\"latex\"))"
   ],
   "metadata": {
    "collapsed": false,
    "pycharm": {
     "name": "#%%\n"
    }
   }
  },
  {
   "cell_type": "code",
   "execution_count": null,
   "outputs": [],
   "source": [
    "print(\"Statevector for message 00:\")\n",
    "stateVectors[0]"
   ],
   "metadata": {
    "collapsed": false,
    "pycharm": {
     "name": "#%%\n"
    }
   }
  },
  {
   "cell_type": "code",
   "execution_count": null,
   "outputs": [],
   "source": [
    "print(\"Statevector for message 01:\")\n",
    "stateVectors[1]"
   ],
   "metadata": {
    "collapsed": false,
    "pycharm": {
     "name": "#%%\n"
    }
   }
  },
  {
   "cell_type": "code",
   "execution_count": null,
   "outputs": [],
   "source": [
    "print(\"Statevector for message 10:\")\n",
    "stateVectors[2]"
   ],
   "metadata": {
    "collapsed": false,
    "pycharm": {
     "name": "#%%\n"
    }
   }
  },
  {
   "cell_type": "code",
   "execution_count": null,
   "outputs": [],
   "source": [
    "print(\"Statevector for message 11:\")\n",
    "stateVectors[3]"
   ],
   "metadata": {
    "collapsed": false,
    "pycharm": {
     "name": "#%%\n"
    }
   }
  },
 "metadata": {
  "kernelspec": {
   "name": "pycharm-34a3b9e9",
   "language": "python",
   "display_name": "PyCharm (QiskitProjects)"
  },
  "language_info": {
   "codemirror_mode": {
    "name": "ipython",
    "version": 2
   },
   "file_extension": ".py",
   "mimetype": "text/x-python",
   "name": "python",
   "nbconvert_exporter": "python",
   "pygments_lexer": "ipython2",
   "version": "2.7.6"
  }
 },
 "nbformat": 4,
 "nbformat_minor": 0
}