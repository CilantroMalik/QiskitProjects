{
 "cells": [
  {
   "cell_type": "markdown",
   "metadata": {
    "pycharm": {
     "name": "#%% md\n"
    }
   },
   "source": [
    "# Implementing Grover's Algorithm"
   ]
  },
  {
   "cell_type": "markdown",
   "metadata": {
    "pycharm": {
     "name": "#%% md\n"
    }
   },
   "source": [
    "We'll use an abstracted version of unordered search to illustrate the algorithm.\n",
    "Let's say that instead of \"searching\" per se, we're looking for a set of bits that satisfy some set of conditions, or in other words, trying to find the \"solutions\" to some set of constraints.\n",
    "(Keep the actual problem in the back of your mind; we'll return to it at the end.)"
   ]
  },
  {
   "cell_type": "code",
   "execution_count": null,
   "metadata": {
    "collapsed": false,
    "jupyter": {
     "outputs_hidden": false
    },
    "pycharm": {
     "name": "#%%\n"
    }
   },
   "outputs": [],
   "source": [
    "# Some helper functions\n",
    "\n",
    "def getBitstrings(n):\n",
    "    if n == 1:\n",
    "        return [\"0\", \"1\"]\n",
    "    else:\n",
    "        return [\"0\"+substr for substr in getBitstrings(n-1)] + [\"1\"+substr for substr in getBitstrings(n-1)]\n"
   ]
  },
  {
   "cell_type": "code",
   "execution_count": null,
   "metadata": {
    "collapsed": false,
    "jupyter": {
     "outputs_hidden": false
    },
    "pycharm": {
     "name": "#%%\n"
    }
   },
   "outputs": [],
   "source": [
    "# Creating a 3-SAT problem statement in DIMACS file format\n",
    "\n",
    "solutions = [\"111\", \"101\", \"110\"]\n",
    "clauses = []\n",
    "\n",
    "for bitstr in getBitstrings(3):\n",
    "    if bitstr not in solutions:\n",
    "        bitstr = bitstr[::-1]\n",
    "        clause = \"\"\n",
    "        for i, bit in enumerate(bitstr):\n",
    "            clause += f\"{i+1} \" if bit == \"0\" else f\"-{i+1} \"\n",
    "        clauses.append(clause + \"0\")\n",
    "\n",
    "clauses"
   ]
  },
  {
   "cell_type": "code",
   "execution_count": null,
   "metadata": {
    "collapsed": false,
    "jupyter": {
     "outputs_hidden": false
    },
    "pycharm": {
     "name": "#%%\n"
    }
   },
   "outputs": [],
   "source": [
    "# Writing the clauses to a file\n",
    "\n",
    "with open(\"/Users/rohanmalik/Desktop/RCDS 2021-22/_Quantum Computing IS/QiskitProjects/test.dimacs\", mode='w', encoding='utf8') as satFile:\n",
    "    satFile.write(f\"p cnf 3 {len(clauses)}\\n\")\n",
    "    satFile.writelines(clauses)"
   ]
  },
  {
   "cell_type": "markdown",
   "metadata": {
    "pycharm": {
     "name": "#%% md\n"
    },
    "tags": []
   },
   "source": [
    "Grover's algorithm has two parts, rather confusingly called the \"oracle\" and \"diffuser.\"\n",
    "The \"oracle\" circuit will flip any state that corresponds to a solution, and leave the other states alone. (How we generate this circuit is out of scope here, but it's basically just solving a logic puzzle with quantum gates.)\n",
    "Now with this circuit in place, the next piece we need is a so-called \"diffuser\" or \"amplifier\", that tweaks the probabilities of the states such that the solutions become more likely to measure.\n",
    "Grover's algorithm involves running the oracle and diffuser multiple times to slowly increase the chances of measuring solution states more and more, up to arbitrary precision."
   ]
  },
 ],
 "metadata": {
  "kernelspec": {
   "display_name": "PyCharm (QiskitProjects)",
   "language": "python",
   "name": "pycharm-34a3b9e9"
  },
  "language_info": {
   "codemirror_mode": {
    "name": "ipython",
    "version": 3
   },
   "file_extension": ".py",
   "mimetype": "text/x-python",
   "name": "python",
   "nbconvert_exporter": "python",
   "pygments_lexer": "ipython3",
   "version": "3.8.3"
  }
 },
 "nbformat": 4,
 "nbformat_minor": 4
}
