{
 "cells": [
  {
   "cell_type": "markdown",
   "metadata": {
    "collapsed": true,
    "pycharm": {
     "name": "#%% md\n"
    }
   },
   "source": [
    "# Creating Quantum Tic Tac Toe"
   ]
  },
  {
   "cell_type": "code",
   "execution_count": 6,
   "outputs": [],
   "source": [
    "# Imports\n",
    "import itertools\n",
    "import os\n",
    "\n",
    "# Setting up the board and game variables\n",
    "board = [\"\", \"\", \"\", \"\", \"\", \"\", \"\", \"\", \"\"]  # 9 spaces in which players can move\n",
    "turnNumber = 1  # counts up every turn (1 turn = each player moves once)\n",
    "currentPlayer = \"X\"  # switches depending on whose turn it is\n",
    "moves = []  # will be a list of [player, square1, square2, turnNum] for each move\n",
    "\n",
    "# Visualize the board\n",
    "def visualizeBoard(state):\n",
    "    maxLen = max([len(item) for item in state]) + 2\n",
    "    if maxLen % 2 == 1:\n",
    "        maxLen += 1\n",
    "    height = maxLen // 2\n",
    "    if height % 2 == 0:\n",
    "        height += 1\n",
    "    row1 = \"|\".join([item.center(maxLen) for item in state[:3]])\n",
    "    row2 = \"|\".join([item.center(maxLen) for item in state[3:6]])\n",
    "    row3 = \"|\".join([item.center(maxLen) for item in state[6:]])\n",
    "\n",
    "    for i in range(height // 2):\n",
    "        print(\" \"*maxLen + \"|\" + \" \"*maxLen + \"|\" + \" \"*maxLen)\n",
    "    print(row1)\n",
    "    for i in range(height // 2):\n",
    "        print(\" \"*maxLen + \"|\" + \" \"*maxLen + \"|\" + \" \"*maxLen)\n",
    "    print(\"—\"*(maxLen*3 + 2))\n",
    "    for i in range(height // 2):\n",
    "        print(\" \"*maxLen + \"|\" + \" \"*maxLen + \"|\" + \" \"*maxLen)\n",
    "    print(row2)\n",
    "    for i in range(height // 2):\n",
    "        print(\" \"*maxLen + \"|\" + \" \"*maxLen + \"|\" + \" \"*maxLen)\n",
    "    print(\"—\"*(maxLen*3 + 2))\n",
    "    for i in range(height // 2):\n",
    "        print(\" \"*maxLen + \"|\" + \" \"*maxLen + \"|\" + \" \"*maxLen)\n",
    "    print(row3)\n",
    "    for i in range(height // 2):\n",
    "        print(\" \"*maxLen + \"|\" + \" \"*maxLen + \"|\" + \" \"*maxLen)\n"
   ],
   "metadata": {
    "collapsed": false,
    "pycharm": {
     "name": "#%%\n"
    }
   }
  },
  {
   "cell_type": "code",
   "execution_count": 7,
   "outputs": [],
   "source": [
    "# Display all moves so far in the game\n",
    "\n",
    "def getConnections(moveList):\n",
    "    print(\"\\n—————— Move List ——————\")\n",
    "    connections = []\n",
    "    for move in moveList:\n",
    "        connections.append(f\"{move[0]}: {move[1]}—{move[2]}\")\n",
    "    for i, conn in enumerate(connections):\n",
    "        print(conn, end=\";\\n\" if i % 3 == 2 else \"; \")\n",
    "    if len(connections) % 3 != 0:\n",
    "        print(\"\\n\")"
   ],
   "metadata": {
    "collapsed": false,
    "pycharm": {
     "name": "#%%\n"
    }
   }
  },
 ],
 "metadata": {
  "kernelspec": {
   "name": "pycharm-34a3b9e9",
   "language": "python",
   "display_name": "PyCharm (QiskitProjects)"
  },
  "language_info": {
   "codemirror_mode": {
    "name": "ipython",
    "version": 2
   },
   "file_extension": ".py",
   "mimetype": "text/x-python",
   "name": "python",
   "nbconvert_exporter": "python",
   "pygments_lexer": "ipython2",
   "version": "2.7.6"
  }
 },
 "nbformat": 4,
 "nbformat_minor": 0
}