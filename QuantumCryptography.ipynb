{
 "cells": [
  {
   "cell_type": "markdown",
   "metadata": {
    "pycharm": {
     "name": "#%% md\n"
    }
   },
   "source": [
    "# Implementing Quantum Cryptography with the BB84 Protocol"
   ]
  },
  {
   "cell_type": "code",
   "execution_count": null,
   "metadata": {
    "collapsed": false,
    "jupyter": {
     "outputs_hidden": false
    },
    "pycharm": {
     "name": "#%%\n"
    }
   },
   "outputs": [],
   "source": [
    "# Setup\n",
    "from random import randint, sample\n",
    "\n",
    "n = 50  # Length of the message to be sent\n",
    "\n",
    "aliceBits = [randint(0, 1) for _ in range(n)]  # 0 or 1 for the random bits Alice generates\n",
    "aliceBases = [randint(0, 1) for _ in range(n)]  # 0 = Z basis, 1 = X basis"
   ]
  },
  {
   "cell_type": "code",
   "execution_count": null,
   "metadata": {},
   "outputs": [],
   "source": [
    "aliceBases"
   ]
  },
 ],
 "metadata": {
  "kernelspec": {
   "display_name": "PyCharm (QiskitProjects)",
   "language": "python",
   "name": "pycharm-34a3b9e9"
  },
  "language_info": {
   "codemirror_mode": {
    "name": "ipython",
    "version": 3
   },
   "file_extension": ".py",
   "mimetype": "text/x-python",
   "name": "python",
   "nbconvert_exporter": "python",
   "pygments_lexer": "ipython3",
   "version": "3.8.3"
  }
 },
 "nbformat": 4,
 "nbformat_minor": 4
}