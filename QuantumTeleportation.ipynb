{
 "cells": [
  {
   "cell_type": "markdown",
   "metadata": {
    "pycharm": {
     "name": "#%% md\n"
    }
   },
   "source": [
    "# Implementing Quantum Teleportation"
   ]
  },
  {
   "cell_type": "code",
   "execution_count": null,
   "metadata": {
    "collapsed": false,
    "jupyter": {
     "outputs_hidden": false
    },
    "pycharm": {
     "name": "#%%\n"
    }
   },
   "outputs": [],
   "source": [
    "# Imports\n",
    "from qiskit import QuantumCircuit, QuantumRegister, ClassicalRegister\n",
    "from qiskit.extensions import Initialize\n",
    "from qiskit.quantum_info import Statevector, random_statevector\n",
    "from qiskit.providers.aer import AerSimulator\n",
    "from qiskit.visualization import plot_histogram, plot_bloch_multivector\n",
    "\n",
    "sim = AerSimulator()  # Initialize a simulator instance\n",
    "\n",
    "# Set up circuits for Alice and Bob\n",
    "# We use three qubits, but imagine that each person can access only the qubits they have on hand at any time\n",
    "# And we have three measurement slots for Alice's two measurements according to the protocol as well as Bob's final measurement of the unknown qubit\n",
    "qrAlice = QuantumRegister(2, name=\"alice\")\n",
    "qrBob = QuantumRegister(1, name=\"bob\")\n",
    "cl = ClassicalRegister(1, name=\"meas1\")\n",
    "cl2 = ClassicalRegister(1, name=\"meas2\")\n",
    "cl3 = ClassicalRegister(1, name=\"out\")\n",
    "alice = QuantumCircuit(qrAlice, qrBob, cl, cl2, cl3)\n",
    "bob = QuantumCircuit(qrAlice, qrBob, cl, cl2, cl3)"
   ]
  },
  {
   "cell_type": "code",
   "execution_count": null,
   "metadata": {
    "collapsed": false,
    "jupyter": {
     "outputs_hidden": false
    },
    "pycharm": {
     "name": "#%%\n"
    }
   },
   "outputs": [],
   "source": [
    "# Alice has the qubit in an unknown state, qubit 0 in our circuit\n",
    "unknownState = random_statevector(2)\n",
    "unknownInit = Initialize(unknownState) # Initialize a superposition with certain unknown coefficients\n",
    "alice.append(unknownInit, [0])\n",
    "alice.barrier()\n",
    "plot_bloch_multivector(unknownState);\n"
   ]
  },
  {
   "cell_type": "code",
   "execution_count": null,
   "metadata": {
    "collapsed": false,
    "jupyter": {
     "outputs_hidden": false
    },
    "pycharm": {
     "name": "#%%\n"
    }
   },
   "outputs": [],
   "source": [
    "# Alice and Bob get together to entangle a pair of qubits, then Alice takes qubit 1 and Bob takes 2.\n",
    "alice.h(2)\n",
    "alice.cx(2, 1)  # Recall that this creates the Bell state between qubits 1 and 2\n",
    "alice.barrier()\n",
    "# Imagine that after this, Alice has access only to qubit 1 and Bob only to qubit 2.\n",
    "# They want to transport the unknown state of qubit 0 from Alice to Bob.\n",
    "\n",
    "alice.draw(output=\"mpl\");"
   ]
  },
  {
   "cell_type": "code",
   "execution_count": null,
   "metadata": {
    "collapsed": false,
    "jupyter": {
     "outputs_hidden": false
    },
    "pycharm": {
     "name": "#%%\n"
    }
   },
   "outputs": [],
   "source": [
    "alice.cx(0, 1)  # Alice runs the unknown qubit and her entangled qubit through a CNOT\n",
    "# Now the target has taken on coefficients that relate to the unknown qubit, due to entanglement\n",
    "# Alice also puts the unknown qubit through an H gate — the final preparation step\n",
    "alice.h(0)\n",
    "alice.barrier()\n",
    "alice.measure([0], [0])  # After passing the unknown qubit through an H gate, Alice measures that qubit\n",
    "alice.measure([1], [1])  # She also measures the target qubit\n",
    "alice.barrier()\n",
    "alice.draw(output=\"mpl\");"
   ]
  },
  {
   "cell_type": "code",
   "execution_count": null,
   "metadata": {
    "collapsed": false,
    "jupyter": {
     "outputs_hidden": false
    },
    "pycharm": {
     "name": "#%%\n"
    }
   },
   "outputs": [],
   "source": [
    "# Now Bob's entangled qubit (qubit 2) has the correct coefficients in some permutation\n",
    "# He has to use measurements 1 and 2 to decide what to do\n",
    "bob.x(2).c_if(cl2, 1)\n",
    "bob.z(2).c_if(cl, 1)\n",
    "\n",
    "combined = alice.compose(bob)\n",
    "combined.save_statevector()\n",
    "\n",
    "combined.draw(output=\"mpl\");"
   ]
  },
  {
   "cell_type": "code",
   "execution_count": null,
   "metadata": {
    "collapsed": false,
    "jupyter": {
     "outputs_hidden": false
    },
    "pycharm": {
     "name": "#%%\n"
    }
   },
   "outputs": [],
   "source": [
    "# Let's see the state of the system after this circuit runs\n",
    "\n",
    "plot_bloch_multivector(sim.run(combined).result().get_statevector());"
   ]
  },
  {
   "cell_type": "code",
   "execution_count": null,
   "metadata": {
    "collapsed": false,
    "jupyter": {
     "outputs_hidden": false
    },
    "pycharm": {
     "name": "#%%\n"
    }
   },
   "outputs": [],
   "source": [
    "# For comparison, here's the unknown state from the beginning...\n",
    "# Neither Alice nor Bob ever knew the coefficients, but the state was teleported\n",
    "# from qubit 0 in Alice's \"possession\" to qubit 2 in Bob's \"possession\"\n",
    "\n",
    "plot_bloch_multivector(unknownState);"
   ]
  },
  {
   "cell_type": "code",
   "execution_count": null,
   "metadata": {
    "collapsed": false,
    "jupyter": {
     "outputs_hidden": false
    },
    "pycharm": {
     "name": "#%%\n"
    }
   },
   "outputs": [],
   "source": [
    "# Addendum: understanding Bob's corrections using Alice's measurements\n",
    "\n",
    "qrAlice = QuantumRegister(2, name=\"alice\")\n",
    "qrBob = QuantumRegister(1, name=\"bob\")\n",
    "cl = ClassicalRegister(1, name=\"meas1\")\n",
    "cl2 = ClassicalRegister(1, name=\"meas2\")\n",
    "cl3 = ClassicalRegister(1, name=\"out\")\n",
    "alice = QuantumCircuit(qrAlice, qrBob, cl, cl2, cl3)\n",
    "bob = QuantumCircuit(qrAlice, qrBob, cl, cl2, cl3)\n",
    "\n",
    "unknownState = random_statevector(2)\n",
    "unknownInit = Initialize(unknownState)\n",
    "alice.append(unknownInit, [0])\n",
    "alice.barrier()\n",
    "\n",
    "alice.h(2)\n",
    "alice.cx(2, 1)\n",
    "alice.barrier()\n",
    "\n",
    "alice.cx(0, 1)\n",
    "alice.h(0)\n",
    "alice.barrier()\n",
    "alice.measure([0], [0])\n",
    "alice.measure([1], [1])\n",
    "alice.barrier()\n",
    "\n",
    "# Let's enable or disable these corrections to see how they affect the state.\n",
    "#bob.x(2).c_if(cl2, 1)\n",
    "#bob.z(2).c_if(cl, 1)\n",
    "\n",
    "combined = alice.compose(bob)\n",
    "combined.save_statevector()"
   ]
  },
  {
   "cell_type": "code",
   "execution_count": null,
   "metadata": {
    "collapsed": false,
    "jupyter": {
     "outputs_hidden": false
    },
    "pycharm": {
     "name": "#%%\n"
    }
   },
   "outputs": [],
   "source": [
    "plot_bloch_multivector(sim.run(combined).result().get_statevector());"
   ]
  },
  {
   "cell_type": "code",
   "execution_count": null,
   "metadata": {
    "collapsed": false,
    "jupyter": {
     "outputs_hidden": false
    },
    "pycharm": {
     "name": "#%%\n"
    }
   },
   "outputs": [],
   "source": [
    "plot_bloch_multivector(unknownState);\n"
   ]
  },
  {
   "cell_type": "code",
   "execution_count": null,
   "metadata": {},
   "outputs": [],
   "source": []
  }
 ],
 "metadata": {
  "kernelspec": {
   "display_name": "PyCharm (QiskitProjects)",
   "language": "python",
   "name": "pycharm-34a3b9e9"
  },
  "language_info": {
   "codemirror_mode": {
    "name": "ipython",
    "version": 3
   },
   "file_extension": ".py",
   "mimetype": "text/x-python",
   "name": "python",
   "nbconvert_exporter": "python",
   "pygments_lexer": "ipython3",
   "version": "3.8.3"
  }
 },
 "nbformat": 4,
 "nbformat_minor": 4
}