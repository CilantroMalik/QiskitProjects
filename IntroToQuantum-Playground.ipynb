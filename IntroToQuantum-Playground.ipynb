{
 "cells": [
  {
   "cell_type": "code",
   "execution_count": null,
   "outputs": [],
   "source": [
    "# Very basic quantum circuit\n",
    "from qiskit import QuantumCircuit\n",
    "\n",
    "# create a circuit with 3 qubits for operations and 3 classical bits for output\n",
    "qc = QuantumCircuit(3, 3)\n",
    "# measure the quantum bits in register slots 0, 1, 2 and output to corresponding classical register slots\n",
    "qc.measure([0, 1, 2], [0, 1, 2])\n",
    "qc.draw(output=\"mpl\");"
   ],
   "metadata": {
    "collapsed": false,
    "pycharm": {
     "name": "#%%\n"
    }
   }
  },
  {
   "cell_type": "code",
   "execution_count": null,
   "outputs": [],
   "source": [
    "# Simulating the circuit on a real computer\n",
    "from qiskit.providers.aer import AerSimulator\n",
    "from qiskit.visualization import plot_histogram\n",
    "\n",
    "sim = AerSimulator()\n",
    "job = sim.run(qc)\n",
    "countDict = job.result().get_counts()\n",
    "plot_histogram(countDict);"
   ],
   "metadata": {
    "collapsed": false,
    "pycharm": {
     "name": "#%%\n"
    }
   }
  },
  {
   "cell_type": "code",
   "execution_count": null,
   "outputs": [],
   "source": [
    "# Modifying the quantum circuit\n",
    "qc = QuantumCircuit(3, 3)\n",
    "qc.x([0, 1])  # apply X gate to qubits at register slots 0 and 1\n",
    "qc.measure([0, 1, 2], [0, 1, 2])\n",
    "qc.draw(output=\"mpl\");"
   ],
   "metadata": {
    "collapsed": false,
    "pycharm": {
     "name": "#%%\n"
    }
   }
  },
  {
   "cell_type": "code",
   "execution_count": null,
   "outputs": [],
   "source": [
    "# Adding superposition with the H gate\n",
    "qc = QuantumCircuit(3, 3)\n",
    "qc.h([0])  # apply H gate to qubit at register slot 0\n",
    "qc.measure([0, 1, 2], [0, 1, 2])\n",
    "qc.draw(output=\"mpl\");"
   ],
   "metadata": {
    "collapsed": false,
    "pycharm": {
     "name": "#%%\n"
    }
   }
  },
  {
   "cell_type": "code",
   "execution_count": null,
   "outputs": [],
   "source": [
    "# Adding more superpositions: measurement histogram changes\n",
    "qc = QuantumCircuit(3, 3)\n",
    "qc.h([0, 1])  # apply H gate to qubit at register slot 0\n",
    "qc.measure([0, 1, 2], [0, 1, 2])\n",
    "qc.draw(output=\"mpl\");"
   ],
   "metadata": {
    "collapsed": false,
    "pycharm": {
     "name": "#%%\n"
    }
   }
  },
  {
   "cell_type": "code",
   "execution_count": null,
   "outputs": [],
   "source": [
    "# Implementing the Half-Adder\n",
    "# A half-adder takes in two bits of input (0 or 1) and \"adds\" their values (returning 0, 1, or 2 accordingly)\n",
    "halfAdder = QuantumCircuit(4, 2)  # 2 qubits input & 2 auxiliary qubits; 2 clasical bits output\n",
    "halfAdder.x([0, 1])  # change the inputs as needed to encode the desired starting values\n",
    "halfAdder.cx(0, 2)  # CNOT gate: flips auxiliary bit 1 from 0 -> 1 if the first input bit is 1\n",
    "halfAdder.cx(1, 2)  # CNOT on the second git: flips the same auxiliary bit if the second input is 1\n",
    "# Note that if both inputs were 1, the first auxiliary bit (representing the ones place) will be 0 since the sum is 10 in binary\n",
    "\n",
    "halfAdder.ccx(0, 1, 3)  # Controlled-Controlled-NOT (Toffoli Gate): acts like logical AND; only flips auxiliary bit 2 if both inputs are 1\n",
    "\n",
    "halfAdder.measure([2, 3], [0, 1])  # measure the auxiliary bits to the output register\n",
    "halfAdder.draw(output=\"mpl\");\n"
   ],
   "metadata": {
    "collapsed": false,
    "pycharm": {
     "name": "#%%\n"
    }
   }
  },
  {
   "cell_type": "code",
   "execution_count": null,
   "outputs": [],
   "source": [
    "# Encapsulating the half-adder into a function for easier experimentation\n",
    "def generateHalfAdder(in1, in2):\n",
    "    ha = QuantumCircuit(4, 2)\n",
    "    if in1 == 1:\n",
    "        ha.x(0)\n",
    "    if in2 == 1:\n",
    "        ha.x(1)\n",
    "    ha.cx(0, 2)\n",
    "    ha.cx(1, 2)\n",
    "    ha.ccx(0, 1, 3)\n",
    "    ha.measure([2, 3], [0, 1])\n",
    "    ha.draw(output=\"mpl\");\n",
    "    return ha"
   ],
   "metadata": {
    "collapsed": false,
    "pycharm": {
     "name": "#%%\n"
    }
   }
  },
  {
   "cell_type": "code",
   "execution_count": null,
   "outputs": [],
   "source": [
    "# Simulating the half-adder on various inputs\n",
    "adderJob = sim.run(generateHalfAdder(1, 1))  # create and run half-adder with the given inputs\n",
    "adderResults = adderJob.result().get_counts()  # retrieve the simulated result\n",
    "plot_histogram(adderResults);  # plot the output\n"
   ],
   "metadata": {
    "collapsed": false,
    "pycharm": {
     "name": "#%%\n"
    }
   }
  }
 ],
 "metadata": {
  "kernelspec": {
   "name": "pycharm-34a3b9e9",
   "language": "python",
   "display_name": "PyCharm (QiskitProjects)"
  },
  "language_info": {
   "codemirror_mode": {
    "name": "ipython",
    "version": 2
   },
   "file_extension": ".py",
   "mimetype": "text/x-python",
   "name": "python",
   "nbconvert_exporter": "python",
   "pygments_lexer": "ipython2",
   "version": "2.7.6"
  }
 },
 "nbformat": 4,
 "nbformat_minor": 0
}