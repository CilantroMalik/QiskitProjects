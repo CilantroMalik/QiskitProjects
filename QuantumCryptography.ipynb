{
 "cells": [
  {
   "cell_type": "markdown",
   "metadata": {
    "pycharm": {
     "name": "#%% md\n"
    }
   },
   "source": [
    "# Implementing Quantum Cryptography with the BB84 Protocol"
   ]
  },
  {
   "cell_type": "code",
   "execution_count": null,
   "metadata": {
    "collapsed": false,
    "jupyter": {
     "outputs_hidden": false
    },
    "pycharm": {
     "name": "#%%\n"
    }
   },
   "outputs": [],
   "source": [
    "# Setup\n",
    "from random import randint, sample\n",
    "\n",
    "n = 50  # Length of the message to be sent\n",
    "\n",
    "aliceBits = [randint(0, 1) for _ in range(n)]  # 0 or 1 for the random bits Alice generates\n",
    "aliceBases = [randint(0, 1) for _ in range(n)]  # 0 = Z basis, 1 = X basis"
   ]
  },
  {
   "cell_type": "code",
   "execution_count": null,
   "metadata": {},
   "outputs": [],
   "source": [
    "aliceBases"
   ]
  },
  {
   "cell_type": "code",
   "execution_count": null,
   "metadata": {
    "collapsed": false,
    "jupyter": {
     "outputs_hidden": false
    },
    "pycharm": {
     "name": "#%%\n"
    }
   },
   "outputs": [],
   "source": [
    "# Encodes a message with the correct bits and bases\n",
    "from qiskit import QuantumCircuit\n",
    "\n",
    "def encodeMessage(bits, bases):\n",
    "    message = []\n",
    "    for bit, base in zip(bits, bases):\n",
    "        qc = QuantumCircuit(1, 1)\n",
    "        if base == 0:  # Z basis\n",
    "            if bit == 1:\n",
    "                qc.x(0)  # Have to flip the qubit if the input bit is 1\n",
    "        else:  # X basis\n",
    "            if bit == 1:\n",
    "                qc.x(0)  # Same as before for now\n",
    "            qc.h(0)  # But now put it in superposition (recall: \"rotation\" from Z to X basis)\n",
    "        qc.barrier()  # for readability\n",
    "        message.append(qc)\n",
    "    return message"
   ]
  },
  {
   "cell_type": "code",
   "execution_count": null,
   "metadata": {
    "collapsed": false,
    "jupyter": {
     "outputs_hidden": false
    },
    "pycharm": {
     "name": "#%%\n"
    }
   },
   "outputs": [],
   "source": [
    "message = encodeMessage(aliceBits, aliceBases)  # create message as per above\n",
    "\n",
    "# Look at some sample indices and their circuits\n",
    "indices = sample(range(n), 5)\n",
    "for i in indices:\n",
    "    print(f\"Bit: {aliceBits[i]}; Base: {aliceBases[i]}\")\n",
    "    print(\"——————————————————\")"
   ]
  },
  {
   "cell_type": "code",
   "execution_count": null,
   "metadata": {
    "collapsed": false,
    "jupyter": {
     "outputs_hidden": false
    },
    "pycharm": {
     "name": "#%%\n"
    }
   },
   "outputs": [],
   "source": [
    "message[indices[0]].draw(output=\"mpl\");"
   ]
  },
  {
   "cell_type": "code",
   "execution_count": null,
   "metadata": {
    "collapsed": false,
    "jupyter": {
     "outputs_hidden": false
    },
    "pycharm": {
     "name": "#%%\n"
    }
   },
   "outputs": [],
   "source": [
    "message[indices[1]].draw(output=\"mpl\");"
   ]
  },
  {
   "cell_type": "code",
   "execution_count": null,
   "metadata": {
    "collapsed": false,
    "jupyter": {
     "outputs_hidden": false
    },
    "pycharm": {
     "name": "#%%\n"
    }
   },
   "outputs": [],
   "source": [
    "message[indices[2]].draw(output=\"mpl\");"
   ]
  },
  {
   "cell_type": "code",
   "execution_count": null,
   "metadata": {
    "collapsed": false,
    "jupyter": {
     "outputs_hidden": false
    },
    "pycharm": {
     "name": "#%%\n"
    }
   },
   "outputs": [],
   "source": [
    "message[indices[3]].draw(output=\"mpl\");"
   ]
  },
  {
   "cell_type": "code",
   "execution_count": null,
   "metadata": {
    "collapsed": false,
    "jupyter": {
     "outputs_hidden": false
    },
    "pycharm": {
     "name": "#%%\n"
    }
   },
   "outputs": [],
   "source": [
    "message[indices[4]].draw(output=\"mpl\");"
   ]
  },
  {
   "cell_type": "code",
   "execution_count": null,
   "metadata": {
    "collapsed": false,
    "jupyter": {
     "outputs_hidden": false
    },
    "pycharm": {
     "name": "#%%\n"
    }
   },
   "outputs": [],
   "source": [
    "# Now on Bob's end: choose more random bases in which to measure the message\n",
    "\n",
    "bobBases = [randint(0, 1) for _ in range(n)]"
   ]
  },
  {
   "cell_type": "code",
   "execution_count": null,
   "metadata": {
    "collapsed": false,
    "jupyter": {
     "outputs_hidden": false
    },
    "pycharm": {
     "name": "#%%\n"
    }
   },
   "outputs": [],
   "source": [
    "# Measure the message using the given bases\n",
    "from qiskit import Aer, assemble\n",
    "\n",
    "def measureMessage(messageBits, bases):\n",
    "    sim = Aer.get_backend(\"aer_simulator\")\n",
    "    meas = []\n",
    "    for messageBit, base in zip(messageBits, bases):\n",
    "        if base == 0:  # Z basis measurement\n",
    "            messageBit.measure(0, 0)\n",
    "        else:  # X basis measurement\n",
    "            messageBit.h(0)  # \"rotate\" the basis again, since raw measurement can only be done in Z\n",
    "            messageBit.measure(0, 0)\n",
    "        qobj = assemble(messageBit, shots=1, memory=True)  # Only want one try, not the normal 1000, to mirror real-world situation\n",
    "        # Run the circuit and fetch the measured bit from the classical register\n",
    "        meas.append(int(sim.run(qobj).result().get_memory()[0]))\n",
    "    return meas"
   ]
  },
  {
   "cell_type": "code",
   "execution_count": null,
   "metadata": {
    "collapsed": false,
    "jupyter": {
     "outputs_hidden": false
    },
    "pycharm": {
     "name": "#%%\n"
    }
   },
   "outputs": [],
   "source": [
    "# Bob gets his results and compares bases with Alice\n",
    "\n",
    "bobResults = measureMessage(message, bobBases)\n",
    "\n",
    "# Let's look at the same 5 circuits from last time and see how they've changed."
   ]
  },
  {
   "cell_type": "code",
   "execution_count": null,
   "metadata": {
    "collapsed": false,
    "jupyter": {
     "outputs_hidden": false
    },
    "pycharm": {
     "name": "#%%\n"
    }
   },
   "outputs": [],
   "source": [
    "print(f\"Message Bit: {aliceBits[indices[0]]}; Alice Base: {aliceBases[indices[0]]}; Bob Base: {bobBases[indices[0]]}\")\n",
    "message[indices[0]].draw(output=\"mpl\");"
   ]
  },
  {
   "cell_type": "code",
   "execution_count": null,
   "metadata": {
    "collapsed": false,
    "jupyter": {
     "outputs_hidden": false
    },
    "pycharm": {
     "name": "#%%\n"
    }
   },
   "outputs": [],
   "source": [
    "print(f\"Message Bit: {aliceBits[indices[1]]}; Alice Base: {aliceBases[indices[1]]}; Bob Base: {bobBases[indices[1]]}\")\n",
    "message[indices[1]].draw(output=\"mpl\");"
   ]
  },
  {
   "cell_type": "code",
   "execution_count": null,
   "metadata": {
    "collapsed": false,
    "jupyter": {
     "outputs_hidden": false
    },
    "pycharm": {
     "name": "#%%\n"
    }
   },
   "outputs": [],
   "source": [
    "print(f\"Message Bit: {aliceBits[indices[2]]}; Alice Base: {aliceBases[indices[2]]}; Bob Base: {bobBases[indices[2]]}\")\n",
    "message[indices[2]].draw(output=\"mpl\");"
   ]
  },
  {
   "cell_type": "code",
   "execution_count": null,
   "metadata": {
    "collapsed": false,
    "jupyter": {
     "outputs_hidden": false
    },
    "pycharm": {
     "name": "#%%\n"
    }
   },
   "outputs": [],
   "source": [
    "print(f\"Message Bit: {aliceBits[indices[3]]}; Alice Base: {aliceBases[indices[3]]}; Bob Base: {bobBases[indices[3]]}\")\n",
    "message[indices[3]].draw(output=\"mpl\");"
   ]
  },
  {
   "cell_type": "code",
   "execution_count": null,
   "metadata": {
    "collapsed": false,
    "jupyter": {
     "outputs_hidden": false
    },
    "pycharm": {
     "name": "#%%\n"
    }
   },
   "outputs": [],
   "source": [
    "print(f\"Message Bit: {aliceBits[indices[4]]}; Alice Base: {aliceBases[indices[4]]}; Bob Base: {bobBases[indices[4]]}\")\n",
    "message[indices[4]].draw(output=\"mpl\");"
   ]
  },
  {
   "cell_type": "code",
   "execution_count": null,
   "metadata": {
    "collapsed": false,
    "jupyter": {
     "outputs_hidden": false
    },
    "pycharm": {
     "name": "#%%\n"
    }
   },
   "outputs": [],
   "source": [
    "# Alice and Bob only keep the bits in which their bases were the same (so they are guaranteed to have made the same measurement).\n",
    "def pruneInvalid(aBases, bBases, bits):\n",
    "    validBits = []\n",
    "    for aliceBase, bobBase, bit in zip(aBases, bBases, bits):\n",
    "        if aliceBase == bobBase:  # bit is only valid if its bases were the same\n",
    "            validBits.append(bit)\n",
    "    return validBits"
   ]
  },
  {
   "cell_type": "code",
   "execution_count": null,
   "metadata": {
    "collapsed": false,
    "jupyter": {
     "outputs_hidden": false
    },
    "pycharm": {
     "name": "#%%\n"
    }
   },
   "outputs": [],
   "source": [
    "from numpy import mod\n",
    "\n",
    "# Alice and Bob will also publicly compare a subset of their final key to ensure that the protocol worked\n",
    "def sampleBits(bits, sampleIndices):\n",
    "    sampled = []\n",
    "    for i in sampleIndices:\n",
    "        # Have to calculate i modulo length of bits since we are changing the list length as we go, so we don't access indices out of range\n",
    "        # We pop the element each time so it gets removed from the bits, since any bits they publicly share should not be part of their final secret key\n",
    "        sampled.append(bits.pop(mod(i, len(bits))))\n",
    "    return sampled"
   ]
  },
  {
   "cell_type": "code",
   "execution_count": null,
   "metadata": {
    "collapsed": false,
    "jupyter": {
     "outputs_hidden": false
    },
    "pycharm": {
     "name": "#%%\n"
    }
   },
   "outputs": [],
   "source": [
    "# Both people generate keys using their own private bit string (Alice has the original bits, and Bob has his measured results)\n",
    "# Remember that the bases are now publicly shared, so they both know each other's base choices.\n",
    "aliceKey = pruneInvalid(aliceBases, bobBases, aliceBits)\n",
    "bobKey = pruneInvalid(aliceBases, bobBases, bobResults)\n",
    "\n",
    "sampleSize = 15\n",
    "sampledBits = sample(range(n), sampleSize)  # using sample() prevents duplication\n",
    "\n",
    "aliceSample = sampleBits(aliceKey, sampledBits)\n",
    "bobSample = sampleBits(bobKey, sampledBits)\n",
    "\n",
    "if aliceSample == bobSample:\n",
    "    print(\"Protocol (most likely) worked!\")\n",
    "\n",
    "# The rest of their bits (those that were not shared) now form their secret key."
   ]
  },
  {
   "cell_type": "markdown",
   "metadata": {
    "pycharm": {
     "name": "#%% md\n"
    }
   },
   "source": [
    "In this first demonstration, Alice and Bob have agreed on a secret classical key that they both know by using quantum information.\n",
    "Notice that they transmitted classical information over an open communication channel, but this was never enough to deduce the key with certainty.\n",
    "They took advantage of the randomness of quantum mechanics: as we will see, if someone were to intercept the transfer of quantum information (which actually holds the key itself), they would have a hard time getting away with it."
   ]
  },
  {
   "cell_type": "markdown",
   "metadata": {
    "pycharm": {
     "name": "#%% md\n"
    }
   },
   "source": [
    "# Interception: Adding (and Catching) an Eavesdropper"
   ]
  },
  {
   "cell_type": "code",
   "execution_count": null,
   "metadata": {
    "collapsed": false,
    "jupyter": {
     "outputs_hidden": false
    },
    "pycharm": {
     "name": "#%%\n"
    }
   },
   "outputs": [],
   "source": [
    "# First part of the protocol is the same: Alice randomly chooses bits and bases and encodes her message\n",
    "\n",
    "aliceBits = [randint(0, 1) for _ in range(n)]\n",
    "aliceBases = [randint(0, 1) for _ in range(n)]\n",
    "message = encodeMessage(aliceBits, aliceBases)"
   ]
  },
  {
   "cell_type": "code",
   "execution_count": null,
   "metadata": {
    "collapsed": false,
    "jupyter": {
     "outputs_hidden": false
    },
    "pycharm": {
     "name": "#%%\n"
    }
   },
   "outputs": [],
   "source": [
    "# Now Eve the malicious actor comes into the picture. Eve intercepts the qubits as they are being transferred from Alice to Bob for measurement (i.e. intercepts the quantum information).\n",
    "# Eve chooses a random set of bases in which to measure the bits (this is the best she can do, as Alice and Bob have not shared their bases yet and will not do so until after Bob measures).\n",
    "\n",
    "eveBases = [randint(0, 1) for _ in range(n)]\n",
    "intercepted = measureMessage(message, eveBases)  # Eve measures the message, just like Bob will later, but in her own bases"
   ]
  },
  {
   "cell_type": "code",
   "execution_count": null,
   "metadata": {
    "collapsed": false,
    "jupyter": {
     "outputs_hidden": false
    },
    "pycharm": {
     "name": "#%%\n"
    }
   },
   "outputs": [],
   "source": [
    "# Bob then does exactly what he would have done otherwise (because he doesn't know there was an eavesdropper)...\n",
    "bobBases = [randint(0, 1) for _ in range(n)]\n",
    "bobResults = measureMessage(message, bobBases)\n",
    "\n",
    "# Let's look at five random bases again to see what has changed with Eve being a part of this exchange.\n",
    "indices = sample(range(n), 5)"
   ]
  },
  {
   "cell_type": "code",
   "execution_count": null,
   "metadata": {
    "collapsed": false,
    "jupyter": {
     "outputs_hidden": false
    },
    "pycharm": {
     "name": "#%%\n"
    }
   },
   "outputs": [],
   "source": [
    "print(f\"Message Bit: {aliceBits[indices[0]]}; Alice Base: {aliceBases[indices[0]]}; Eve Base: {eveBases[indices[0]]}; Bob Base: {bobBases[indices[0]]}\")\n",
    "message[indices[0]].draw(output=\"mpl\");"
   ]
  },
  {
   "cell_type": "code",
   "execution_count": null,
   "metadata": {
    "collapsed": false,
    "jupyter": {
     "outputs_hidden": false
    },
    "pycharm": {
     "name": "#%%\n"
    }
   },
   "outputs": [],
   "source": [
    "print(f\"Message Bit: {aliceBits[indices[1]]}; Alice Base: {aliceBases[indices[1]]}; Eve Base: {eveBases[indices[0]]}; Bob Base: {bobBases[indices[1]]}\")\n",
    "message[indices[1]].draw(output=\"mpl\");"
   ]
  },
  {
   "cell_type": "code",
   "execution_count": null,
   "metadata": {
    "collapsed": false,
    "jupyter": {
     "outputs_hidden": false
    },
    "pycharm": {
     "name": "#%%\n"
    }
   },
   "outputs": [],
   "source": [
    "print(f\"Message Bit: {aliceBits[indices[2]]}; Alice Base: {aliceBases[indices[2]]}; Eve Base: {eveBases[indices[0]]}; Bob Base: {bobBases[indices[2]]}\")\n",
    "message[indices[2]].draw(output=\"mpl\");"
   ]
  },
  {
   "cell_type": "code",
   "execution_count": null,
   "metadata": {
    "collapsed": false,
    "jupyter": {
     "outputs_hidden": false
    },
    "pycharm": {
     "name": "#%%\n"
    }
   },
   "outputs": [],
   "source": [
    "print(f\"Message Bit: {aliceBits[indices[3]]}; Alice Base: {aliceBases[indices[3]]}; Eve Base: {eveBases[indices[0]]}; Bob Base: {bobBases[indices[3]]}\")\n",
    "message[indices[3]].draw(output=\"mpl\");"
   ]
  },
  {
   "cell_type": "code",
   "execution_count": null,
   "metadata": {
    "collapsed": false,
    "jupyter": {
     "outputs_hidden": false
    },
    "pycharm": {
     "name": "#%%\n"
    }
   },
   "outputs": [],
   "source": [
    "print(f\"Message Bit: {aliceBits[indices[4]]}; Alice Base: {aliceBases[indices[4]]}; Eve Base: {eveBases[indices[0]]}; Bob Base: {bobBases[indices[4]]}\")\n",
    "message[indices[4]].draw(output=\"mpl\");"
   ]
  },
  {
   "cell_type": "code",
   "execution_count": null,
   "metadata": {
    "collapsed": false,
    "jupyter": {
     "outputs_hidden": false
    },
    "pycharm": {
     "name": "#%%\n"
    }
   },
   "outputs": [],
   "source": [
    "# Now the key generation step happens as before: Alice and Bob reveal their bases and prune invalid bits\n",
    "\n",
    "aliceKey = pruneInvalid(aliceBases, bobBases, aliceBits)\n",
    "bobKey = pruneInvalid(aliceBases, bobBases, bobResults)\n",
    "\n",
    "sampleSize = 15  # They again sample a subset of their qubits\n",
    "sampledBits = sample(range(n), sampleSize)\n",
    "\n",
    "aliceSample = sampleBits(aliceKey, sampledBits)\n",
    "bobSample = sampleBits(bobKey, sampledBits)\n",
    "\n",
    "print(aliceSample)\n",
    "print(bobSample)\n",
    "\n",
    "# In all likelihood, they are not equal! This is because Eve's measurements could have changed the quantum state by collapsing it, thereby skewing Bob's chances of measuring a certain outcome.\n",
    "# Alice and Bob now know that there was an interception (or it could be due to noise in the communication channel, but let's disregard that for now).\n",
    "# In this way, the protocol both enables secure key distribution and also has built-in detection that alerts the users when the channel might be compromised."
   ]
  },
  {
   "cell_type": "markdown",
   "metadata": {
    "pycharm": {
     "name": "#%% md\n"
    }
   },
   "source": [
    "How likely is it that Eve goes undetected (that is, the interception is carried out but the bit strings still match)?\n",
    "For any given bit, there is a 75% chance that Eve gets away with the interception: either she chooses the same basis as Alice, changing nothing (50%).\n",
    "Or if not, she will change the state, but Bob still has a 50% chance of measuring the \"right\" qubit, and thinking nothing went wrong, so this adds another 50% of 50% (25%), for a total of 75%.\n",
    "This might seem high, but since it's still less than 1, the chance that Eve gets away with this becomes vanishingly small with more sample bits.\n",
    "With the 15 we used earlier, the chance is (0.75)^15 ≈ 0.0133, or 1.33% — and if we double it to 30 sample bits, the chance drops to below 0.01%!\n",
    "This protocol is highly scalable and parallelizable, so adding a few bits to a key will not add much overhead in the large scheme."
   ]
  },
  {
   "cell_type": "code",
   "execution_count": null,
   "metadata": {
    "collapsed": false,
    "jupyter": {
     "outputs_hidden": false
    },
    "pycharm": {
     "name": "#%%\n"
    }
   },
   "outputs": [],
   "source": [
    "\n"
   ]
  }
 ],
 "metadata": {
  "kernelspec": {
   "display_name": "PyCharm (QiskitProjects)",
   "language": "python",
   "name": "pycharm-34a3b9e9"
  },
  "language_info": {
   "codemirror_mode": {
    "name": "ipython",
    "version": 3
   },
   "file_extension": ".py",
   "mimetype": "text/x-python",
   "name": "python",
   "nbconvert_exporter": "python",
   "pygments_lexer": "ipython3",
   "version": "3.8.3"
  }
 },
 "nbformat": 4,
 "nbformat_minor": 4
}
