{
 "cells": [
  {
   "cell_type": "markdown",
   "metadata": {
    "collapsed": true,
    "pycharm": {
     "name": "#%% md\n"
    }
   },
   "source": [
    "# Creating Quantum Tic Tac Toe"
   ]
  },
  {
   "cell_type": "code",
   "execution_count": 6,
   "outputs": [],
   "source": [
    "# Imports\n",
    "import itertools\n",
    "import os\n",
    "\n",
    "# Setting up the board and game variables\n",
    "board = [\"\", \"\", \"\", \"\", \"\", \"\", \"\", \"\", \"\"]  # 9 spaces in which players can move\n",
    "turnNumber = 1  # counts up every turn (1 turn = each player moves once)\n",
    "currentPlayer = \"X\"  # switches depending on whose turn it is\n",
    "moves = []  # will be a list of [player, square1, square2, turnNum] for each move\n",
    "\n",
    "# Visualize the board\n",
    "def visualizeBoard(state):\n",
    "    maxLen = max([len(item) for item in state]) + 2\n",
    "    if maxLen % 2 == 1:\n",
    "        maxLen += 1\n",
    "    height = maxLen // 2\n",
    "    if height % 2 == 0:\n",
    "        height += 1\n",
    "    row1 = \"|\".join([item.center(maxLen) for item in state[:3]])\n",
    "    row2 = \"|\".join([item.center(maxLen) for item in state[3:6]])\n",
    "    row3 = \"|\".join([item.center(maxLen) for item in state[6:]])\n",
    "\n",
    "    for i in range(height // 2):\n",
    "        print(\" \"*maxLen + \"|\" + \" \"*maxLen + \"|\" + \" \"*maxLen)\n",
    "    print(row1)\n",
    "    for i in range(height // 2):\n",
    "        print(\" \"*maxLen + \"|\" + \" \"*maxLen + \"|\" + \" \"*maxLen)\n",
    "    print(\"—\"*(maxLen*3 + 2))\n",
    "    for i in range(height // 2):\n",
    "        print(\" \"*maxLen + \"|\" + \" \"*maxLen + \"|\" + \" \"*maxLen)\n",
    "    print(row2)\n",
    "    for i in range(height // 2):\n",
    "        print(\" \"*maxLen + \"|\" + \" \"*maxLen + \"|\" + \" \"*maxLen)\n",
    "    print(\"—\"*(maxLen*3 + 2))\n",
    "    for i in range(height // 2):\n",
    "        print(\" \"*maxLen + \"|\" + \" \"*maxLen + \"|\" + \" \"*maxLen)\n",
    "    print(row3)\n",
    "    for i in range(height // 2):\n",
    "        print(\" \"*maxLen + \"|\" + \" \"*maxLen + \"|\" + \" \"*maxLen)\n"
   ],
   "metadata": {
    "collapsed": false,
    "pycharm": {
     "name": "#%%\n"
    }
   }
  },
  {
   "cell_type": "code",
   "execution_count": 7,
   "outputs": [],
   "source": [
    "# Display all moves so far in the game\n",
    "\n",
    "def getConnections(moveList):\n",
    "    print(\"\\n—————— Move List ——————\")\n",
    "    connections = []\n",
    "    for move in moveList:\n",
    "        connections.append(f\"{move[0]}: {move[1]}—{move[2]}\")\n",
    "    for i, conn in enumerate(connections):\n",
    "        print(conn, end=\";\\n\" if i % 3 == 2 else \"; \")\n",
    "    if len(connections) % 3 != 0:\n",
    "        print(\"\\n\")"
   ],
   "metadata": {
    "collapsed": false,
    "pycharm": {
     "name": "#%%\n"
    }
   }
  },
  {
   "cell_type": "code",
   "execution_count": 8,
   "outputs": [],
   "source": [
    "# Check if a closed cyclic loop exists in a game state\n",
    "\n",
    "def hasLoop(moveList):\n",
    "    for moveset in itertools.combinations(moveList, 3):\n",
    "        if len(set(moveset[0][1:3] + moveset[1][1:3] + moveset[2][1:3])) == 3:\n",
    "            toPrint = [f\"{move[0]}: {move[1]}—{move[2]}\" for move in moveset]\n",
    "            print(f\"Loop created: {'; '.join(toPrint)}\")\n",
    "            return moveset\n",
    "    return None"
   ],
   "metadata": {
    "collapsed": false,
    "pycharm": {
     "name": "#%%\n"
    }
   }
  },
  {
   "cell_type": "code",
   "execution_count": 9,
   "outputs": [],
   "source": [
    "# Extract some functions for clarity and readability in game loop\n",
    "\n",
    "# Display game state\n",
    "def showState():\n",
    "    os.system(\"clear\")\n",
    "    visualizeBoard(board)\n",
    "    getConnections(moves)\n",
    "\n",
    "# End of turn tasks\n",
    "def endTurn(currPlayer, turnNum):\n",
    "    # Switch player\n",
    "    if currPlayer == \"X\":\n",
    "        currPlayer = \"O\"\n",
    "    else:\n",
    "        currPlayer = \"X\"\n",
    "        turnNum += 1\n",
    "    return currPlayer, turnNum"
   ],
   "metadata": {
    "collapsed": false,
    "pycharm": {
     "name": "#%%\n"
    }
   }
  },
  {
   "cell_type": "code",
   "execution_count": null,
   "outputs": [],
   "source": [
    "# Creating the main game loop\n",
    "winner = None  # will be populated with \"X\" or \"O\"\n",
    "\n",
    "while winner is None:\n",
    "    showState()  # show state at the start of each turn\n",
    "    print(\"\\n———————————————————————\")\n",
    "    print(\"1|2|3\")  # Show the layout of the board for reference\n",
    "    print(\"—————\")\n",
    "    print(\"4|5|6\")\n",
    "    print(\"—————\")\n",
    "    print(\"7|8|9\")\n",
    "    # Get for the current player's move\n",
    "    squares = input(f\"Player {currentPlayer} — choose two squares for your superposed piece (two numbers, separated by a space): \").split(\" \")\n",
    "    squares[0], squares[1] = int(squares[0]), int(squares[1])  # parse the strings into integers\n",
    "    # Add the move to the list of moves and change the board state\n",
    "    moves.append([f\"{currentPlayer}\", squares[0], squares[1], turnNumber])\n",
    "    board[squares[0]-1] += (\"/\" if board[squares[0]-1] != \"\" else \"\") + f\"{currentPlayer}{turnNumber}\"\n",
    "    board[squares[1]-1] += (\"/\" if board[squares[1]-1] != \"\" else \"\") + f\"{currentPlayer}{turnNumber}\"\n",
    "    showState()  # Show updated state after each move\n",
   ],
   "metadata": {
    "collapsed": false,
    "pycharm": {
     "name": "#%%\n"
    }
   }
  },
 ],
 "metadata": {
  "kernelspec": {
   "name": "pycharm-34a3b9e9",
   "language": "python",
   "display_name": "PyCharm (QiskitProjects)"
  },
  "language_info": {
   "codemirror_mode": {
    "name": "ipython",
    "version": 2
   },
   "file_extension": ".py",
   "mimetype": "text/x-python",
   "name": "python",
   "nbconvert_exporter": "python",
   "pygments_lexer": "ipython2",
   "version": "2.7.6"
  }
 },
 "nbformat": 4,
 "nbformat_minor": 0
}