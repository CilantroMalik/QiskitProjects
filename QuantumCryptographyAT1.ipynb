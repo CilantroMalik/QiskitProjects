{
 "cells": [
  {
   "cell_type": "markdown",
   "metadata": {
    "pycharm": {
     "name": "#%% md\n"
    }
   },
   "source": [
    "# Implementing Quantum Cryptography with the BB84 Protocol"
   ]
  },
  {
   "cell_type": "markdown",
   "metadata": {},
   "source": [
    "The fundamental problem in cryptography is getting two people to create a shared secret key; after that, secure communication is easy. The \"quantum key distribution\" protocol does just that — it takes advantage of quantum properties to not only make a system that confidentially transmits a key, but also detect if the exchange could have been compromised.\n",
    "We follow our friends Alice and Bob as they work together to generate a key. First, Alice starts with a set of random bits and bases (Z or X) and creates qubits in the corresponding states, before sending them to Bob to measure and retrieve the original bits. But Bob has no idea what bases Alice used (since she can't publicly share them) so he uses random bases to measure."
   ]
  },
 ],
 "metadata": {
  "kernelspec": {
   "display_name": "PyCharm (QiskitProjects)",
   "language": "python",
   "name": "pycharm-34a3b9e9"
  },
  "language_info": {
   "codemirror_mode": {
    "name": "ipython",
    "version": 3
   },
   "file_extension": ".py",
   "mimetype": "text/x-python",
   "name": "python",
   "nbconvert_exporter": "python",
   "pygments_lexer": "ipython3",
   "version": "3.8.3"
  }
 },
 "nbformat": 4,
 "nbformat_minor": 4
}
