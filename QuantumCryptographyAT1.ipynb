{
 "cells": [
  {
   "cell_type": "markdown",
   "metadata": {
    "pycharm": {
     "name": "#%% md\n"
    }
   },
   "source": [
    "# Implementing Quantum Cryptography with the BB84 Protocol"
   ]
  },
  {
   "cell_type": "markdown",
   "metadata": {},
   "source": [
    "The fundamental problem in cryptography is getting two people to create a shared secret key; after that, secure communication is easy. The \"quantum key distribution\" protocol does just that — it takes advantage of quantum properties to not only make a system that confidentially transmits a key, but also detect if the exchange could have been compromised.\n",
    "We follow our friends Alice and Bob as they work together to generate a key. First, Alice starts with a set of random bits and creates qubits in the corresponding states (possibly in superpositions) to send to Bob."
   ]
  },
  {
   "cell_type": "code",
   "execution_count": null,
   "metadata": {
    "collapsed": false,
    "jupyter": {
     "outputs_hidden": false
    },
    "pycharm": {
     "name": "#%%\n"
    }
   },
   "outputs": [],
   "source": [
    "# Setup\n",
    "from random import randint, sample\n",
    "\n",
    "n = 50  # Length of the message to be sent\n",
    "\n",
    "aliceBits = [randint(0, 1) for _ in range(n)]  # 0 or 1 for the random bits Alice generates\n",
    "aliceBases = [randint(0, 1) for _ in range(n)]  # 0 = no superposition; 1 = superposition"
   ]
  },
  {
   "cell_type": "code",
   "execution_count": null,
   "metadata": {
    "collapsed": false,
    "jupyter": {
     "outputs_hidden": false
    },
    "pycharm": {
     "name": "#%%\n"
    }
   },
   "outputs": [],
   "source": [
    "# Encodes a message with the correct bits and bases\n",
    "from qiskit import QuantumCircuit\n",
    "\n",
    "def encodeMessage(bits, bases):\n",
    "    message = []\n",
    "    for bit, base in zip(bits, bases):\n",
    "        qc = QuantumCircuit(1, 1)\n",
    "        if base == 0:  # No superposition\n",
    "            if bit == 1:\n",
    "                qc.x(0)  # Have to flip the qubit if the input bit is 1\n",
    "        else:  # X basis\n",
    "            if bit == 1: # Superposition\n",
    "                qc.x(0)  # Same as before for now\n",
    "            qc.h(0)  # H gate: create superposition\n",
    "        qc.barrier()  # for readability\n",
    "        message.append(qc)\n",
    "    return message"
   ]
  },
  {
   "cell_type": "code",
   "execution_count": null,
   "metadata": {
    "collapsed": false,
    "jupyter": {
     "outputs_hidden": false
    },
    "pycharm": {
     "name": "#%%\n"
    }
   },
   "outputs": [],
   "source": [
    "message = encodeMessage(aliceBits, aliceBases)  # create message as per above\n",
    "\n",
    "# Look at some sample indices and their circuits\n",
    "indices = sample(range(n), 5)\n",
    "for i in indices:\n",
    "    print(f\"Bit: {aliceBits[i]}; Base: {aliceBases[i]}\")\n",
    "    print(\"——————————————————\")"
   ]
  },
  {
   "cell_type": "code",
   "execution_count": null,
   "metadata": {
    "collapsed": false,
    "jupyter": {
     "outputs_hidden": false
    },
    "pycharm": {
     "name": "#%%\n"
    }
   },
   "outputs": [],
   "source": [
    "message[indices[0]].draw(output=\"mpl\");"
   ]
  },
  {
   "cell_type": "code",
   "execution_count": null,
   "metadata": {
    "collapsed": false,
    "jupyter": {
     "outputs_hidden": false
    },
    "pycharm": {
     "name": "#%%\n"
    }
   },
   "outputs": [],
   "source": [
    "message[indices[1]].draw(output=\"mpl\");"
   ]
  },
  {
   "cell_type": "code",
   "execution_count": null,
   "metadata": {
    "collapsed": false,
    "jupyter": {
     "outputs_hidden": false
    },
    "pycharm": {
     "name": "#%%\n"
    }
   },
   "outputs": [],
   "source": [
    "message[indices[2]].draw(output=\"mpl\");"
   ]
  },
  {
   "cell_type": "code",
   "execution_count": null,
   "metadata": {
    "collapsed": false,
    "jupyter": {
     "outputs_hidden": false
    },
    "pycharm": {
     "name": "#%%\n"
    }
   },
   "outputs": [],
   "source": [
    "message[indices[3]].draw(output=\"mpl\");"
   ]
  },
  {
   "cell_type": "code",
   "execution_count": null,
   "metadata": {
    "collapsed": false,
    "jupyter": {
     "outputs_hidden": false
    },
    "pycharm": {
     "name": "#%%\n"
    }
   },
   "outputs": [],
   "source": [
    "message[indices[4]].draw(output=\"mpl\");"
   ]
  },
  {
   "cell_type": "code",
   "execution_count": null,
   "metadata": {
    "collapsed": false,
    "jupyter": {
     "outputs_hidden": false
    },
    "pycharm": {
     "name": "#%%\n"
    }
   },
   "outputs": [],
   "source": [
    "# Now on Bob's end: randomly choose superposition or no superposition\n",
    "\n",
    "bobBases = [randint(0, 1) for _ in range(n)]"
   ]
  },
  {
   "cell_type": "code",
   "execution_count": null,
   "metadata": {
    "collapsed": false,
    "jupyter": {
     "outputs_hidden": false
    },
    "pycharm": {
     "name": "#%%\n"
    }
   },
   "outputs": [],
   "source": [
    "# Measure the message, possibly applying H gate first\n",
    "from qiskit import Aer, assemble\n",
    "\n",
    "def measureMessage(messageBits, bases):\n",
    "    sim = Aer.get_backend(\"aer_simulator\")\n",
    "    meas = []\n",
    "    for messageBit, base in zip(messageBits, bases):\n",
    "        if base == 0:  # no superposition: just measure\n",
    "            messageBit.measure(0, 0)\n",
    "        else:  # superposition: first H gate, then measure\n",
    "            messageBit.h(0)  # Note that this will undo a superposition if Alice created one\n",
    "            messageBit.measure(0, 0)\n",
    "        qobj = assemble(messageBit, shots=1, memory=True)  # Only want one try, not the normal 1000, to mirror real-world situation\n",
    "        # Run the circuit and fetch the measured bit from the classical register\n",
    "        meas.append(int(sim.run(qobj).result().get_memory()[0]))\n",
    "    return meas"
   ]
  },
  {
   "cell_type": "code",
   "execution_count": null,
   "metadata": {
    "collapsed": false,
    "jupyter": {
     "outputs_hidden": false
    },
    "pycharm": {
     "name": "#%%\n"
    }
   },
   "outputs": [],
   "source": [
    "# Bob gets his results and compares bases with Alice\n",
    "\n",
    "bobResults = measureMessage(message, bobBases)\n",
    "\n",
    "# Let's look at the same 5 circuits from last time and see how they've changed."
   ]
  },
  {
   "cell_type": "code",
   "execution_count": null,
   "metadata": {
    "collapsed": false,
    "jupyter": {
     "outputs_hidden": false
    },
    "pycharm": {
     "name": "#%%\n"
    }
   },
   "outputs": [],
   "source": [
    "print(f\"Message Bit: {aliceBits[indices[0]]}; Alice Base: {aliceBases[indices[0]]}; Bob Base: {bobBases[indices[0]]}\")\n",
    "message[indices[0]].draw(output=\"mpl\");"
   ]
  },
  {
   "cell_type": "code",
   "execution_count": null,
   "metadata": {
    "collapsed": false,
    "jupyter": {
     "outputs_hidden": false
    },
    "pycharm": {
     "name": "#%%\n"
    }
   },
   "outputs": [],
   "source": [
    "print(f\"Message Bit: {aliceBits[indices[1]]}; Alice Base: {aliceBases[indices[1]]}; Bob Base: {bobBases[indices[1]]}\")\n",
    "message[indices[1]].draw(output=\"mpl\");"
   ]
  },
  {
   "cell_type": "code",
   "execution_count": null,
   "metadata": {
    "collapsed": false,
    "jupyter": {
     "outputs_hidden": false
    },
    "pycharm": {
     "name": "#%%\n"
    }
   },
   "outputs": [],
   "source": [
    "print(f\"Message Bit: {aliceBits[indices[2]]}; Alice Base: {aliceBases[indices[2]]}; Bob Base: {bobBases[indices[2]]}\")\n",
    "message[indices[2]].draw(output=\"mpl\");"
   ]
  },
  {
   "cell_type": "code",
   "execution_count": null,
   "metadata": {
    "collapsed": false,
    "jupyter": {
     "outputs_hidden": false
    },
    "pycharm": {
     "name": "#%%\n"
    }
   },
   "outputs": [],
   "source": [
    "print(f\"Message Bit: {aliceBits[indices[3]]}; Alice Base: {aliceBases[indices[3]]}; Bob Base: {bobBases[indices[3]]}\")\n",
    "message[indices[3]].draw(output=\"mpl\");"
   ]
  },
  {
   "cell_type": "code",
   "execution_count": null,
   "metadata": {
    "collapsed": false,
    "jupyter": {
     "outputs_hidden": false
    },
    "pycharm": {
     "name": "#%%\n"
    }
   },
   "outputs": [],
   "source": [
    "print(f\"Message Bit: {aliceBits[indices[4]]}; Alice Base: {aliceBases[indices[4]]}; Bob Base: {bobBases[indices[4]]}\")\n",
    "message[indices[4]].draw(output=\"mpl\");"
   ]
  },
  {
   "cell_type": "code",
   "execution_count": null,
   "metadata": {
    "collapsed": false,
    "jupyter": {
     "outputs_hidden": false
    },
    "pycharm": {
     "name": "#%%\n"
    }
   },
   "outputs": [],
   "source": [
    "# Alice and Bob only keep the bits where they made the same superposition choices (so they are guaranteed to have made the same measurement).\n",
    "# Remember that H gates cancel each other out, so if neither applied it, or both applied it, we're good, and otherwise, we aren't\n",
    "def pruneInvalid(aBases, bBases, bits):\n",
    "    validBits = []\n",
    "    for aliceBase, bobBase, bit in zip(aBases, bBases, bits):\n",
    "        if aliceBase == bobBase:\n",
    "            validBits.append(bit)\n",
    "    return validBits"
   ]
  },
  {
   "cell_type": "code",
   "execution_count": null,
   "metadata": {
    "collapsed": false,
    "jupyter": {
     "outputs_hidden": false
    },
    "pycharm": {
     "name": "#%%\n"
    }
   },
   "outputs": [],
   "source": [
    "from numpy import mod\n",
    "\n",
    "# Alice and Bob will also publicly compare a subset of their final key to ensure that the protocol worked\n",
    "def sampleBits(bits, sampleIndices):\n",
    "    sampled = []\n",
    "    for i in sampleIndices:\n",
    "        sampled.append(bits.pop(mod(i, len(bits))))\n",
    "    return sampled"
   ]
  },
  {
   "cell_type": "code",
   "execution_count": null,
   "metadata": {
    "collapsed": false,
    "jupyter": {
     "outputs_hidden": false
    },
    "pycharm": {
     "name": "#%%\n"
    }
   },
   "outputs": [],
   "source": [
    "# Both people generate keys using their own private bit string (Alice has the original bits, and Bob has his measured results)\n",
    "# Remember that the superposition choices are now publicly shared, so they both know each other's.\n",
    "aliceKey = pruneInvalid(aliceBases, bobBases, aliceBits)\n",
    "bobKey = pruneInvalid(aliceBases, bobBases, bobResults)\n",
    "\n",
    "sampleSize = 15\n",
    "sampledBits = sample(range(n), sampleSize)  # using sample() prevents duplication\n",
    "\n",
    "aliceSample = sampleBits(aliceKey, sampledBits)\n",
    "bobSample = sampleBits(bobKey, sampledBits)\n",
    "\n",
    "if aliceSample == bobSample:\n",
    "    print(\"Protocol (most likely) worked!\")\n",
    "\n",
    "# The rest of their bits (those that were not shared) now form their secret key."
   ]
  },
 ],
 "metadata": {
  "kernelspec": {
   "display_name": "PyCharm (QiskitProjects)",
   "language": "python",
   "name": "pycharm-34a3b9e9"
  },
  "language_info": {
   "codemirror_mode": {
    "name": "ipython",
    "version": 3
   },
   "file_extension": ".py",
   "mimetype": "text/x-python",
   "name": "python",
   "nbconvert_exporter": "python",
   "pygments_lexer": "ipython3",
   "version": "3.8.3"
  }
 },
 "nbformat": 4,
 "nbformat_minor": 4
}
