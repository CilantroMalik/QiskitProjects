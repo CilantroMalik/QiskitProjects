{
 "cells": [
  {
   "cell_type": "markdown",
   "metadata": {
    "pycharm": {
     "name": "#%% md\n"
    }
   },
   "source": [
    "# Implementing Grover's Algorithm"
   ]
  },
  {
   "cell_type": "markdown",
   "metadata": {
    "pycharm": {
     "name": "#%% md\n"
    }
   },
   "source": [
    "The problem: Boolean Satisfiability\n",
    "\n",
    "\"SAT problems\" are a class of problems that deal with Boolean expressions.\n",
    "A SAT problem is defined by a set of Boolean expressions, and the \"solutions\" are the strings of bits that satisfy all of the constraints.\n",
    "3-SAT is a subclass of SAT problems with 3 bits, and that's where we'll start."
   ]
  },
  {
   "cell_type": "code",
   "execution_count": null,
   "metadata": {
    "collapsed": false,
    "jupyter": {
     "outputs_hidden": false
    },
    "pycharm": {
     "name": "#%%\n"
    }
   },
   "outputs": [],
   "source": [
    "# Some helper functions\n",
    "\n",
    "def getBitstrings(n):\n",
    "    if n == 1:\n",
    "        return [\"0\", \"1\"]\n",
    "    else:\n",
    "        return [\"0\"+substr for substr in getBitstrings(n-1)] + [\"1\"+substr for substr in getBitstrings(n-1)]\n"
   ]
  },
  {
   "cell_type": "code",
   "execution_count": null,
   "metadata": {
    "collapsed": false,
    "jupyter": {
     "outputs_hidden": false
    },
    "pycharm": {
     "name": "#%%\n"
    }
   },
   "outputs": [],
   "source": [
    "# Creating a 3-SAT problem statement in DIMACS file format\n",
    "\n",
    "solutions = [\"111\", \"101\", \"110\"]\n",
    "clauses = []\n",
    "\n",
    "for bitstr in getBitstrings(3):\n",
    "    if bitstr not in solutions:\n",
    "        bitstr = bitstr[::-1]\n",
    "        clause = \"\"\n",
    "        for i, bit in enumerate(bitstr):\n",
    "            clause += f\"{i+1} \" if bit == \"0\" else f\"-{i+1} \"\n",
    "        clauses.append(clause + \"0\")\n",
    "\n",
    "clauses"
   ]
  },
  {
   "cell_type": "code",
   "execution_count": null,
   "metadata": {
    "collapsed": false,
    "jupyter": {
     "outputs_hidden": false
    },
    "pycharm": {
     "name": "#%%\n"
    }
   },
   "outputs": [],
   "source": [
    "# Writing the clauses to a file\n",
    "\n",
    "with open(\"/Users/rohanmalik/Desktop/RCDS 2021-22/_Quantum Computing IS/QiskitProjects/test.dimacs\", mode='w', encoding='utf8') as satFile:\n",
    "    satFile.write(f\"p cnf 3 {len(clauses)}\\n\")\n",
    "    satFile.writelines(clauses)"
   ]
  },
  {
   "cell_type": "code",
   "execution_count": null,
   "metadata": {
    "collapsed": false,
    "jupyter": {
     "outputs_hidden": false
    },
    "pycharm": {
     "name": "#%%\n"
    }
   },
   "outputs": [],
   "source": [
    "# Creating an \"oracle\" circuit from the constraints in the file\n",
    "\n",
    "from qiskit.circuit.library import PhaseOracle\n",
    "\n",
    "oracle = PhaseOracle.from_dimacs_file(\"/Users/rohanmalik/Desktop/RCDS 2021-22/_Quantum Computing IS/QiskitProjects/test.dimacs\")\n",
    "oracle.draw(output=\"mpl\");"
   ]
  },
  {
   "cell_type": "markdown",
   "metadata": {
    "pycharm": {
     "name": "#%% md\n"
    }
   },
   "source": [
    "The \"oracle\" circuit will flip the phase (i.e. apply a Z gate) of any state that corresponds to a solution, and leave the other states alone.\n",
    "Now with this circuit in place, the next piece we need is a so-called \"diffuser\" or \"amplifier\", that tweaks the probabilities of the states such that the phase-shifted ones become more likely to measure.\n",
    "Grover's algorithm involves running the oracle and diffuser multiple times to slowly increase the chances of measuring solution states more and more, up to arbitrary precision."
   ]
  },
  {
   "cell_type": "markdown",
   "metadata": {
    "pycharm": {
     "name": "#%% md\n"
    }
   },
   "source": [
    "The intuition for the algorithm relies in statevectors — let's create a new coordinate system whose basis vectors are the superposition of all wrong states |X> and the superposition of all solution states |√>.\n",
    "We start in a superposition of all possible states |s>, which will likely lie closer to X than to √ since there are only a few solutions.\n",
    "We want to try to manipulate s to get it as close to √ as possible so we can measure and have a high chance of getting a solution.\n",
    "Our \"oracle\" flips all solution states, so it effectively reflects the statevector over the X axis.\n",
    "So if we then have a way to reflect the statevector over |s>, we will end up closer to the √ axis! This is the role of the \"diffuser\" circuit."
   ]
  },
  {
   "cell_type": "code",
   "execution_count": null,
   "metadata": {
    "collapsed": false,
    "jupyter": {
     "outputs_hidden": false
    },
    "pycharm": {
     "name": "#%%\n"
    }
   },
   "outputs": [],
   "source": [
    "# Creating a \"diffuser\" circuit that amplifies solution states\n",
    "\n",
    "from qiskit import QuantumCircuit\n",
    "\n",
    "diff = QuantumCircuit(3)\n",
    "allQubits = list(range(3))\n",
    "diff.h(allQubits)\n",
    "diff.x(allQubits)\n",
    "diff.barrier()\n",
    "diff.h(2)\n",
    "diff.mct(allQubits[:-1], 2)\n",
    "diff.h(2)\n",
    "diff.barrier()\n",
    "diff.x(allQubits)\n",
    "diff.h(allQubits)\n",
    "diff.draw(output=\"mpl\");\n"
   ]
  },
  {
   "cell_type": "code",
   "execution_count": null,
   "metadata": {
    "collapsed": false,
    "jupyter": {
     "outputs_hidden": false
    },
    "pycharm": {
     "name": "#%%\n"
    }
   },
   "outputs": [],
   "source": [
    "def diffuser(n):\n",
    "    qc = QuantumCircuit(n)\n",
    "    allQubits = list(range(n))\n",
    "    qc.h(allQubits)\n",
    "    qc.x(allQubits)\n",
    "    qc.h(n-1)\n",
    "    qc.mct(allQubits[:-1], n-1)\n",
    "    qc.h(n-1)\n",
    "    qc.x(allQubits)\n",
    "    qc.h(allQubits)\n",
    "    diffuserGate = qc.to_gate()\n",
    "    diffuserGate.name = \"diff\"\n",
    "    return diffuserGate"
   ]
  },
  {
   "cell_type": "markdown",
   "metadata": {
    "pycharm": {
     "name": "#%% md\n"
    }
   },
   "source": [
    "How do we reflect around |s>? Well, we know that the controlled Z gate can reflect around |11> (since it flips the phase of that state).\n",
    "So if we transform |s> to |11>, reflect around it, then reverse the transformation, we achieve the desired result.\n",
    "We can take |s> to |00> by applying the H gate (since an H gate on a superposition takes the qubits back to their basis state).\n",
    "Then we apply X gates to change |00> to |11>, and we have the transformation |s> -> |11>.\n",
    "Next, we apply a controlled-Z gate to all the qubits (\"multi-controlled\" so it can generalize to any number of qubits in the state |111...1>)\n",
    "We have to apply H gates and a multi-controlled X gate instead (since a pure MCZ doesn't exist), but they are equivalent since the H gate switches between the X and Z basis then switches back.\n",
    "Then we simply reverse the transformation to go from |11> -> |s> and the diffuser is complete."
   ]
  },
  {
   "cell_type": "code",
   "execution_count": null,
   "metadata": {
    "collapsed": false,
    "jupyter": {
     "outputs_hidden": false
    },
    "pycharm": {
     "name": "#%%\n"
    }
   },
   "outputs": [],
   "source": [
    "# Creating the Grover's Algorithm Circuit\n",
    "\n",
    "grover = QuantumCircuit(3)\n",
    "grover.h([0, 1, 2])  # initialize the |s> state, an equal superposition\n",
    "grover.barrier()\n",
    "grover = grover.compose(oracle)  # add the oracle\n",
    "grover.append(diffuser(3), [0, 1, 2])  # add the diffuser\n",
    "grover.measure_all()\n",
    "grover.draw(output=\"mpl\");\n"
   ]
  },
  {
   "cell_type": "code",
   "execution_count": null,
   "metadata": {
    "collapsed": false,
    "jupyter": {
     "outputs_hidden": false
    },
    "pycharm": {
     "name": "#%%\n"
    }
   },
   "outputs": [],
   "source": [
    "# Simulating the circuit and interpreting results\n",
    "\n",
    "from qiskit import Aer, transpile, assemble\n",
    "from qiskit.visualization import plot_histogram\n",
    "sim = Aer.get_backend('aer_simulator')\n",
    "transpiled = transpile(grover, sim)\n",
    "assembled = assemble(transpiled)\n",
    "plot_histogram(sim.run(assembled).result().get_counts());\n"
   ]
  },
  {
   "cell_type": "code",
   "execution_count": null,
   "metadata": {
    "collapsed": false,
    "jupyter": {
     "outputs_hidden": false
    },
    "pycharm": {
     "name": "#%%\n"
    }
   },
   "outputs": [],
   "source": [
    "# If we run some more iterations...\n",
    "\n",
    "grover = QuantumCircuit(3)\n",
    "grover.h([0, 1, 2])  # initialize the |s> state, an equal superposition\n",
    "grover.barrier()\n",
    "grover = grover.compose(oracle)  # add the oracle\n",
    "grover.append(diffuser(3), [0, 1, 2])  # add the diffuser\n",
    "grover.barrier()\n",
    "grover = grover.compose(oracle)\n",
    "grover.append(diffuser(3), [0, 1, 2])\n",
    "grover.barrier()\n",
    "grover = grover.compose(oracle)\n",
    "grover.append(diffuser(3), [0, 1, 2])\n",
    "grover.measure_all()\n",
    "grover.draw(output=\"mpl\");"
   ],
   "metadata": {
    "collapsed": false,
    "pycharm": {
     "name": "#%%\n"
    }
   }
  },
  {
   "cell_type": "code",
   "execution_count": 40,
   "outputs": [
    {
     "data": {
      "text/plain": "<Figure size 504x360 with 1 Axes>",
      "image/png": "[encoded data removed]"
     },
     "metadata": {
      "needs_background": "light"
     },
     "output_type": "display_data"
    }
   ],
   "source": [
    "# And simulate it now...\n",
    "\n",
    "transpiled = transpile(grover, sim)\n",
    "assembled = assemble(transpiled)\n",
    "plot_histogram(sim.run(assembled).result().get_counts());\n",
    "\n",
    "# The confidence is much higher!"
   ],
   "metadata": {
    "collapsed": false,
    "pycharm": {
     "name": "#%%\n"
    }
   }
  },
  {
   "cell_type": "markdown",
   "source": [
    "In general, we will have to perform the oracle around O(√n) times to get the correct answer.\n",
    "If the initial angle between |s> and the horizontal is θ, each iteration rotates the vector by 2θ towards the vertical.\n",
    "sin(θ) = vertical component over vector length; each solution state has magnitude 1/√N because the superposition must be normalized, and the vector length is 1.\n",
    "So for 1 solution, the sin(θ) is (1/√N) / 1 = 1/√N. By the small angle approximation (which gets more accurate as there are fewer solutions and larger search spaces), θ ≈ 1/√N.\n",
    "Therefore, the number of iterations it takes to rotate all the way to the vertical is proportional to √N, and so the algorithm is O(√N), a quadratic improvement over classical unstructured search!\n"
   ],
   "metadata": {
    "collapsed": false,
    "pycharm": {
     "name": "#%% md\n"
    }
   }
  }
 ],
 "metadata": {
  "kernelspec": {
   "name": "pycharm-34a3b9e9",
   "language": "python",
   "display_name": "PyCharm (QiskitProjects)"
  },
  "language_info": {
   "codemirror_mode": {
    "name": "ipython",
    "version": 2
   },
   "file_extension": ".py",
   "mimetype": "text/x-python",
   "name": "python",
   "nbconvert_exporter": "python",
   "pygments_lexer": "ipython2",
   "version": "2.7.6"
  }
 },
 "nbformat": 4,
 "nbformat_minor": 0
}