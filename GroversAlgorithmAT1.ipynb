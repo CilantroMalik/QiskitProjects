{
 "cells": [
  {
   "cell_type": "markdown",
   "metadata": {
    "pycharm": {
     "name": "#%% md\n"
    }
   },
   "source": [
    "# Implementing Grover's Algorithm"
   ]
  },
  {
   "cell_type": "markdown",
   "metadata": {
    "pycharm": {
     "name": "#%% md\n"
    }
   },
   "source": [
    "We'll use an abstracted version of unordered search to illustrate the algorithm.\n",
    "Let's say that instead of \"searching\" per se, we're looking for a set of bits that satisfy some set of conditions, or in other words, trying to find the \"solutions\" to some set of constraints.\n",
    "(Keep the actual problem in the back of your mind; we'll return to it at the end.)"
   ]
  },
  {
   "cell_type": "code",
   "execution_count": null,
   "metadata": {
    "collapsed": false,
    "jupyter": {
     "outputs_hidden": false
    },
    "pycharm": {
     "name": "#%%\n"
    }
   },
   "outputs": [],
   "source": [
    "# Some helper functions\n",
    "\n",
    "def getBitstrings(n):\n",
    "    if n == 1:\n",
    "        return [\"0\", \"1\"]\n",
    "    else:\n",
    "        return [\"0\"+substr for substr in getBitstrings(n-1)] + [\"1\"+substr for substr in getBitstrings(n-1)]\n"
   ]
  },
 ],
 "metadata": {
  "kernelspec": {
   "display_name": "PyCharm (QiskitProjects)",
   "language": "python",
   "name": "pycharm-34a3b9e9"
  },
  "language_info": {
   "codemirror_mode": {
    "name": "ipython",
    "version": 3
   },
   "file_extension": ".py",
   "mimetype": "text/x-python",
   "name": "python",
   "nbconvert_exporter": "python",
   "pygments_lexer": "ipython3",
   "version": "3.8.3"
  }
 },
 "nbformat": 4,
 "nbformat_minor": 4
}
