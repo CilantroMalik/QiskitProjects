{
 "cells": [
  {
   "cell_type": "markdown",
   "id": "b6ae5efe-7ed1-4fa2-9da1-2ee5f6694802",
   "metadata": {},
   "source": [
    "# Visualizing Qubits: The Bloch Sphere\n",
    "We can visualize quantum states using a popular model known as the Bloch sphere. The traditional classical states of 0 and 1 are represented as vertical arrows, and all the many possible \"in-between states\" are represented somewhere else on the sphere. We'll come back to what these other states mean later."
   ]
  },
  {
   "cell_type": "code",
   "execution_count": null,
   "id": "6f574aa4-89c5-4876-98d7-96b028f6bd2a",
   "metadata": {},
   "outputs": [],
   "source": [
    "from qiskit.visualization import plot_bloch_multivector\n",
    "from qiskit.quantum_info import Statevector, random_statevector\n",
    "zero = Statevector([1, 0])\n",
    "one = Statevector([0, 1])\n",
    "halfway = Statevector([0.7071, 0.7071])\n",
    "random1 = random_statevector(2)\n",
    "random2 = random_statevector(2)"
   ]
  },
  {
   "cell_type": "code",
   "execution_count": null,
   "id": "9fc79b28-8759-4c12-be52-2f60ff56761b",
   "metadata": {},
   "outputs": [],
   "source": [
    "plot_bloch_multivector(zero);"
   ]
  },
  {
   "cell_type": "code",
   "execution_count": null,
   "id": "1d9de795-7c73-4c5a-a1b6-6b118f502134",
   "metadata": {},
   "outputs": [],
   "source": [
    "plot_bloch_multivector(one);"
   ]
  },
  {
   "cell_type": "code",
   "execution_count": null,
   "id": "6d1f74c9-835e-4a6e-802f-234681d6bd1b",
   "metadata": {},
   "outputs": [],
   "source": [
    "plot_bloch_multivector(halfway);"
   ]
  },
  {
   "cell_type": "code",
   "execution_count": null,
   "id": "ad34eb4d-7d40-4443-b014-a28b1c658a3d",
   "metadata": {},
   "outputs": [],
   "source": [
    "plot_bloch_multivector(random1);"
   ]
  },
  {
   "cell_type": "code",
   "execution_count": null,
   "id": "8764bc43-fe74-4123-b55b-7793f6fcd985",
   "metadata": {},
   "outputs": [],
   "source": [
    "plot_bloch_multivector(random2);"
   ]
  },
  {
   "cell_type": "markdown",
   "id": "50febcad-274e-4856-a1e7-348005bfa653",
   "metadata": {},
   "source": [
    "# Introduction to Quantum Circuits\n",
    "Quantum gates involve some number of quantum bits (qubits) and some number of classical bits to use as output.\n",
    "Usually we perform some operations on the qubits and then \"measure\" them, outputting to the classical registers.\n",
    "The most fundamental gate is the X gate, which acts like a NOT operation, flipping 0 to 1 and 1 to 0."
   ]
  },
  {
   "cell_type": "code",
   "execution_count": null,
   "id": "83d1d1d2-9c57-45f1-931c-ac19d9b34955",
   "metadata": {},
   "outputs": [],
   "source": [
    "from qiskit import QuantumCircuit\n",
    "from qiskit.providers.aer import AerSimulator\n",
    "from qiskit.visualization import plot_histogram\n",
    "\n",
    "qc = QuantumCircuit(2)  # 2 qubits\n",
    "\n",
    "qc.draw(output=\"mpl\");  # currently empty"
   ]
  },
  {
   "cell_type": "code",
   "execution_count": null,
   "id": "88ea3701-3b5f-4f78-83a1-b18eed941fa7",
   "metadata": {},
   "outputs": [],
   "source": [
    "qc.x(0)  # perform an X gate on qubit 0\n",
    "\n",
    "qc.draw(output=\"mpl\");  # ignore the semicolons :)"
   ]
  },
  {
   "cell_type": "markdown",
   "id": "f396260a-a50f-4248-ba29-3264ad890e96",
   "metadata": {},
   "source": [
    "When we've performed some operations, we can then measure the circuit — more on this later, but just think of it like converting the quantum information into classical bits (just plain 0 or 1)."
   ]
  },
  {
   "cell_type": "code",
   "execution_count": null,
   "id": "a90269fa-bb06-4f2b-9a30-82cb211bb10f",
   "metadata": {},
   "outputs": [],
   "source": [
    "qc.measure_all()\n",
    "\n",
    "qc.draw(output=\"mpl\");"
   ]
  },
  {
   "cell_type": "markdown",
   "id": "f0c05cf7-0f4d-4f68-9d09-e6581c59dc08",
   "metadata": {},
   "source": [
    "When we want to run a circuit, we put it through a simulator, since we don't have convenient access to real quantum hardware right now. The simulator will run it 1000 times and report back the results it got in a histogram."
   ]
  },
  {
   "cell_type": "code",
   "execution_count": null,
   "id": "d33dd52d-6dd9-4622-b99b-59b5307413a6",
   "metadata": {},
   "outputs": [],
   "source": [
    "sim = AerSimulator()\n",
    "plot_histogram(sim.run(qc).result().get_counts());"
   ]
  },
  {
   "cell_type": "markdown",
   "id": "1a9f6615-a015-48ad-a75a-fc0d0d3d849e",
   "metadata": {},
   "source": [
    "As expected, since we flipped qubit 0 using an X gate, the only state we measure is 01. Let's try a slightly different circuit. What do you think the output will be here?"
   ]
  },
  {
   "cell_type": "code",
   "execution_count": null,
   "id": "0dc1cba8-6ec5-4f4d-9dd0-3165a9f881d2",
   "metadata": {},
   "outputs": [],
   "source": [
    "qc = QuantumCircuit(2)\n",
    "\n",
    "qc.x(0)\n",
    "qc.x(0)\n",
    "qc.x(1)\n",
    "\n",
    "qc.measure_all()\n",
    "\n",
    "qc.draw(output=\"mpl\");"
   ]
  },
  {
   "cell_type": "code",
   "execution_count": null,
   "id": "1bff565c-ab0a-4f77-8b9f-02faac5e2ef2",
   "metadata": {},
   "outputs": [],
   "source": [
    "plot_histogram(sim.run(qc).result().get_counts());"
   ]
  },
  {
   "cell_type": "markdown",
   "id": "a769afef-a680-4c66-81db-e157c2eb6efa",
   "metadata": {},
   "source": [
    "Two X-gates flips the qubit to 1 and back to 0, and then the other qubit only had one X-gate so it stayed at 1.\n",
    "We'll discover more gates as we go on and come back to this later..."
   ]
  },
  {
   "cell_type": "markdown",
   "id": "6e946454-572f-43fa-bdd0-760c3213d5a4",
   "metadata": {},
   "source": [
    "# Superposition: The Hadamard Gate\n",
    "The next fundamental gate is H, the Hadamard gate. This gate is our first taste of actual quantum properties, as it puts a definite 0 or 1 into an equal superposition of both. Measuring a superposition like this is like flipping a coin: the measurement has an equal chance of coming up 0 or 1. \n",
    "Let's explore this with a simple circuit..."
   ]
  },
  {
   "cell_type": "code",
   "execution_count": null,
   "id": "c8c6d847-eb17-4570-8742-62d739ff137c",
   "metadata": {},
   "outputs": [],
   "source": [
    "qc = QuantumCircuit(1)\n",
    "\n",
    "qc.h(0)\n",
    "\n",
    "qc.measure_all()\n",
    "\n",
    "qc.draw(output=\"mpl\");"
   ]
  },
  {
   "cell_type": "code",
   "execution_count": null,
   "id": "99fc8d49-5867-4c8a-b41f-2600b44d867a",
   "metadata": {},
   "outputs": [],
   "source": [
    "plot_histogram(sim.run(qc).result().get_counts());"
   ]
  },
  {
   "cell_type": "markdown",
   "id": "70a358a6-4476-4610-93a5-b46b9daed43c",
   "metadata": {},
   "source": [
    "This time there are two possibilities — about half of the simulations came up 0 and half came up 1, exactly as we expected. If we were to only take one try, we could never predict what would come up: it's completely random.\n",
    "Notice that the odds are not exactly 50-50... this is because of noise and error in the quantum computer. We'll get to this at the end, but just keep on the lookout for these slight errors in later experiments."
   ]
  },
  {
   "cell_type": "markdown",
   "id": "98dd3dff-c9de-4805-a69c-7cea22b86ea2",
   "metadata": {},
   "source": [
    "# Conceptualizing Bases with the Bloch Sphere\n",
    "Let's see a refresher of what the normal Z-basis states, 0 and 1, look like on the Bloch sphere. Then we'll perform an H gate and see how that changes things, and finally we'll look at a Z gate."
   ]
  },
  {
   "cell_type": "code",
   "execution_count": null,
   "id": "19902dac-57f7-4582-8336-b914d009fe44",
   "metadata": {},
   "outputs": [],
   "source": [
    "zero = Statevector([1, 0])  # start with a qubit in the 0 state\n",
    "plot_bloch_multivector(zero);"
   ]
  },
  {
   "cell_type": "code",
   "execution_count": null,
   "id": "fa90f4db-3f82-465a-babf-07b6eb59b766",
   "metadata": {},
   "outputs": [],
   "source": [
    "one = Statevector([0, 1])  # apply an X gate: flip the qubit in the Z basis\n",
    "plot_bloch_multivector(one);"
   ]
  },
